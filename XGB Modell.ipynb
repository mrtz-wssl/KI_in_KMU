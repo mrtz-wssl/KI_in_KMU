{
 "cells": [
  {
   "cell_type": "code",
   "execution_count": null,
   "metadata": {},
   "outputs": [],
   "source": [
    "# Importieren wichtiger Packages\n",
    "import pandas as pd\n",
    "import numpy as np\n",
    "import matplotlib.pyplot as plt"
   ]
  },
  {
   "cell_type": "code",
   "execution_count": null,
   "metadata": {},
   "outputs": [],
   "source": [
    "data  = pd.read_csv(\"data.csv\")\n",
    "data.head()"
   ]
  },
  {
   "cell_type": "code",
   "execution_count": null,
   "metadata": {},
   "outputs": [],
   "source": [
    "data_backup = data.copy()\n",
    "\n",
    "# Transformation des Datensatzes\n",
    "data[\"Zeitstempel\"] = pd.to_datetime(data[\"Zeitstempel\"])\n",
    "data[\"Uhrzeit\"] = pd.to_datetime(data[\"Zeitstempel\"]).dt.time\n",
    "data[\"Stunde\"] = pd.to_datetime(data[\"Zeitstempel\"]).dt.hour\n",
    "data[\"Datum\"] = pd.to_datetime(data[\"Zeitstempel\"]).dt.date\n",
    "data[\"Wochentag\"] = pd.to_datetime(data[\"Zeitstempel\"]).dt.day_name()\n",
    "\n",
    "data.head()"
   ]
  },
  {
   "cell_type": "code",
   "execution_count": null,
   "metadata": {},
   "outputs": [],
   "source": [
    "# Konvertieren der Spalten in die richtige Datentypen\n",
    "data[\"Datum\"] = pd.to_datetime(data[\"Datum\"]).dt.date\n",
    "wochentag_reihenfolge = [\"Monday\", \"Tuesday\", \"Wednesday\", \"Thursday\", \"Friday\", \"Saturday\", \"Sunday\"]\n",
    "data[\"Wochentag\"] = pd.Categorical(data[\"Wochentag\"], categories = wochentag_reihenfolge, ordered = True)\n",
    "data['Monat'] = pd.to_datetime(data['Datum']).dt.month\n",
    "\n",
    "# Entfernen nicht mehr benötigter Spalten\n",
    "data = data.drop(columns = [\"Filiale\", \"Zeitstempel\"], axis = \"columns\")\n",
    "\n",
    "data.info()"
   ]
  },
  {
   "cell_type": "code",
   "execution_count": null,
   "metadata": {},
   "outputs": [],
   "source": [
    "# Im nächsten Schritt prüfen wir Transaktionen außerhalb der Öffnungszeiten. Im Maximum hat die Bäckerrei von 5:30 bis 19:00 geöffnet.\n",
    "# Zu erst werden Transaktionen vor Öffnung geprüft.\n",
    "data_4_uhr = data[data[\"Stunde\"] == 4]\n",
    "data_4_uhr.head()\n",
    "\n",
    "# Da sich in einem Histogramm über den Umsatz pro Uhrzeit pro Tag Ausreißer um 4 Uhr finden, werden alle Einträge vor 5 Uhr entfernt.\n",
    "data = data[data[\"Stunde\"] >= 5]\n",
    "\n",
    "# \n",
    "data_20_uhr = data[data[\"Stunde\"] == 20]\n",
    "data_20_uhr.head()\n",
    "\n",
    "#Duplikate entfernen\n",
    "\n",
    "data.drop_duplicates(inplace = True)\n",
    "data.info()"
   ]
  },
  {
   "cell_type": "code",
   "execution_count": null,
   "metadata": {},
   "outputs": [],
   "source": [
    "# neue Kolumnen für Temperatur und Globalstrahlung einfügen\n",
    "data = data.drop(columns = [\"Temperatur\", \"Globalstrahlung\"], axis = \"columns\")\n",
    "data.head()"
   ]
  },
  {
   "cell_type": "code",
   "execution_count": null,
   "metadata": {},
   "outputs": [],
   "source": [
    "# Stückpreis berechnet\n",
    "data[\"Stückpreis\"] = pd.to_numeric(data[\"Umsatz\"] / data[\"Menge\"]).apply(lambda x: '{:.2f}'.format(x))\n",
    "\n",
    "# Sortieren nach Stückpreis\n",
    "data_preis = data.sort_values(by='Stückpreis', ascending=True)"
   ]
  },
  {
   "cell_type": "code",
   "execution_count": null,
   "metadata": {},
   "outputs": [],
   "source": [
    "n_produkte = data[\"Artikel\"].unique()\n",
    "\n",
    "# Erstellen einer Produktliste mit der verkauften Anzahl\n",
    "produkt_liste = data[[\"Artikel\", \"Menge\"]].groupby(\"Artikel\").sum().sort_values(by=\"Menge\", ascending=False).reset_index()\n",
    "\n",
    "\n",
    "print(\"Es sind folgende Produkte im Datensatz enthalten: \")\n",
    "print(produkt_liste)"
   ]
  },
  {
   "cell_type": "markdown",
   "metadata": {},
   "source": [
    "## 2.3 Hinzufügen weiterer Features"
   ]
  },
  {
   "cell_type": "markdown",
   "metadata": {},
   "source": [
    "### 2.3.0 Feiertage"
   ]
  },
  {
   "cell_type": "markdown",
   "metadata": {},
   "source": [
    "Quelle: https://www.feiertagskalender.ch/index.php?geo=2173&jahr=2016&klasse=5&hl=de\n",
    "Noch ohne Fasnacht"
   ]
  },
  {
   "cell_type": "code",
   "execution_count": null,
   "metadata": {},
   "outputs": [],
   "source": [
    "import pandas as pd\n",
    "\n",
    "# Read the CSV file into a pandas dataframe\n",
    "holidays_df = pd.read_csv('Liste_Feiertage.csv', delimiter=';')\n",
    "\n",
    "# Convert the Date column to datetime format\n",
    "holidays_df['Datum'] = pd.to_datetime(holidays_df['Datum'], format='%d.%m.%Y')\n",
    "\n",
    "# Rename the 'Datum' column to match the 'Datum' column in the data dataframe\n",
    "holidays_df = holidays_df.rename(columns={'Datum': 'Holiday_Datum', 'Feiertag': 'Feiertag Name'})\n",
    "\n",
    "# Convert the 'Datum' column in the data dataframe to datetime format\n",
    "data['Datum'] = pd.to_datetime(data['Datum'])\n",
    "\n",
    "# Merge data and holidays_df dataframes on the date\n",
    "data = data.merge(holidays_df[['Holiday_Datum', 'Feiertag Name']], left_on='Datum', right_on='Holiday_Datum', how='left')\n",
    "\n",
    "# Fill the missing values in the 'Feiertag Name' column with 'normaler Tag'\n",
    "data['Feiertag Name'] = data['Feiertag Name'].fillna('normaler Tag')\n",
    "\n",
    "# Drop the unnecessary 'Holiday_Datum' column\n",
    "data = data.drop(columns='Holiday_Datum')\n",
    "\n",
    "# Print the first 5 rows of the dataframe\n",
    "data.head()\n"
   ]
  },
  {
   "cell_type": "code",
   "execution_count": null,
   "metadata": {},
   "outputs": [],
   "source": [
    "data.loc[data['Feiertag Name'] == 'Valentinstag']"
   ]
  },
  {
   "cell_type": "code",
   "execution_count": null,
   "metadata": {},
   "outputs": [],
   "source": [
    "#erstelle einen Plot für den durchschnittlichen Umsatz pro Feiertag\n",
    "\n",
    "plt.figure(figsize= (10, 5))\n",
    "plt.bar(data.groupby(\"Feiertag Name\")[\"Umsatz\"].mean().sort_values(ascending = False).index, data.groupby(\"Feiertag Name\")[\"Umsatz\"].mean().sort_values(ascending = False))\n",
    "plt.title(\"Durchschnittlicher Umsatz pro Feiertag\")\n",
    "plt.xlabel(\"Feiertag\")\n",
    "plt.ylabel(\"Durchschnittlicher Umsatz\")\n",
    "plt.xticks(rotation = 90)\n",
    "\n",
    "plt.show()"
   ]
  },
  {
   "cell_type": "code",
   "execution_count": null,
   "metadata": {},
   "outputs": [],
   "source": [
    "#die informationen aus dem plot in eine Tabelle ausgeben\n",
    "data.groupby(\"Feiertag Name\")[\"Umsatz\"].mean().sort_values(ascending = False).reset_index()\n"
   ]
  },
  {
   "cell_type": "code",
   "execution_count": null,
   "metadata": {},
   "outputs": [],
   "source": [
    "#Einen neuen, leeren Dataframe machen namens \"Tag vor Feiertag\"\n",
    "data_vor_feiertag = pd.DataFrame()\n",
    "\n",
    "#dem neuen Dataframe die Spalten \"Datum\" und \"Vortag von\" zuweisen\n",
    "data_vor_feiertag[\"Datum\"] = \"\"\n",
    "data_vor_feiertag[\"Vortag von\"] = \"\"\n",
    "\n",
    "#Die Spalte \"Datum\" soll in den Datentyp \"datetime\" konvertiert werden\n",
    "data_vor_feiertag[\"Datum\"] = pd.to_datetime(data_vor_feiertag[\"Datum\"]).dt.date\n",
    "\n",
    "#für die Datum spalte im dataframe \"data_vor_feiertag\" soll der Vortag von jedem Feiertag aus dem holidays_df eingetragen werden\n",
    "i = len(holidays_df)\n",
    "\n",
    "while i > 0:\n",
    "    data_vor_feiertag.at[i-1, \"Datum\"] = holidays_df.at[i-1, \"Holiday_Datum\"] - pd.Timedelta(days=1)\n",
    "    data_vor_feiertag.at[i-1, \"Vortag von\"] = holidays_df.at[i-1, \"Feiertag Name\"]\n",
    "    i = i - 1\n",
    "\n",
    "#Die Daten sollen zum Format YYYY-MM-DD konvertiert werden\n",
    "data_vor_feiertag[\"Datum\"] = pd.to_datetime(data_vor_feiertag[\"Datum\"]).dt.strftime('%Y-%m-%d')\n",
    "\n",
    "#in jeden Eintrag mit \"Vortag von\" soll der Wert \"Vortag\" beigefügt werden vor dem Feiertag\n",
    "data_vor_feiertag[\"Vortag von\"] = data_vor_feiertag[\"Vortag von\"].apply(lambda x: \"Vortag \" + x)\n",
    "\n",
    "# Create a list of \"Datum\" dates\n",
    "datum_dates = data_vor_feiertag['Datum'].tolist()\n",
    "\n",
    "data_vor_feiertag.head()"
   ]
  },
  {
   "cell_type": "code",
   "execution_count": null,
   "metadata": {},
   "outputs": [],
   "source": [
    "# Nun soll dem Datensatz eine weitere Spalte \"Vorfeiertag\" eingefügt werden\n",
    "\n",
    "data['Vortag von'] = ''\n",
    "\n",
    "#If the date is in the list of holiday dates, then fill this new column with the name of the holiday from the holidays_df dataframe\n",
    "\n",
    "for index, row in data.iterrows():\n",
    "    if row['Datum'].strftime('%Y-%m-%d') in datum_dates:\n",
    "        data.at[index, 'Vortag von'] = data_vor_feiertag.loc[data_vor_feiertag['Datum'] == row['Datum'].strftime('%Y-%m-%d'), 'Vortag von'].values[0]\n",
    "    else:\n",
    "        data.at[index, 'Vortag von'] = 'normaler Tag'\n",
    "\n",
    "# Print the first 5 rows of the dataframe\n",
    "data.head()"
   ]
  },
  {
   "cell_type": "markdown",
   "metadata": {},
   "source": [
    "### 2.3.1 Schulferien"
   ]
  },
  {
   "cell_type": "code",
   "execution_count": null,
   "metadata": {},
   "outputs": [],
   "source": [
    "import datetime\n",
    "erstes_datum = data['Datum'].min()\n",
    "letztes_datum = data['Datum'].max()\n",
    "\n",
    "print(\"Das erste Datum im Datensatz ist:\", erstes_datum)\n",
    "print(\"Das letzte Datum im Datensatz ist:\", letztes_datum)\n",
    "\n",
    "# Daten von https://av.tg.ch/public/upload/assets/8713/10_Jahresplan_Schulferien_Volksschule_2019_-_2029.pdf?fp=3\n",
    "# Daten von https://www.schulferien.org/schweiz/kalender/thurgau/2019/\n",
    "\n",
    "# Ferienlisten nach Ferienzeit erstellen\n",
    "data['Ferienzeit TG'] = ''\n",
    "\n",
    "gesamtliste_herbstferien = []\n",
    "gesamtliste_weihnachtsferien = []\n",
    "gesamtliste_sportferien = []\n",
    "gesamtliste_fruehlingsferien = []\n",
    "gesamtliste_pfingstferien = []\n",
    "gesamtliste_sommerferien = []\n"
   ]
  },
  {
   "cell_type": "markdown",
   "metadata": {},
   "source": [
    "#### Schuljahr 2015/ 2016"
   ]
  },
  {
   "cell_type": "code",
   "execution_count": null,
   "metadata": {},
   "outputs": [],
   "source": [
    "# Herbstferien Schuljahr 2015 / 2016\n",
    "# brauchen wir nicht\n",
    "\n",
    "# Weihnachtsferien Schuljahr 2015 / 2016\n",
    "ferienbeginn_weihnachten2015_2016 = datetime.date(2015, 12, 24)\n",
    "ferienende_weihnachten2015_2016 = datetime.date(2016, 1, 3)\n",
    "\n",
    "current_date = ferienbeginn_weihnachten2015_2016\n",
    "weihnachtsferien_tg_sj_2015_2016 = []\n",
    "\n",
    "while current_date <= ferienende_weihnachten2015_2016:\n",
    "    weihnachtsferien_tg_sj_2015_2016.append(current_date.strftime('%Y-%m-%d'))\n",
    "    current_date += datetime.timedelta(days=1)\n",
    "\n",
    "# Sportferien Schuljahr 2015 / 2016\n",
    "ferienbeginn_sport2015_2016 = datetime.date(2016, 2, 1)\n",
    "ferienende_sport2015_2016 = datetime.date(2016, 2, 7)\n",
    "\n",
    "current_date = ferienbeginn_sport2015_2016\n",
    "sportferien_tg_sj_2015_2016 = []\n",
    "\n",
    "while current_date <= ferienende_sport2015_2016:\n",
    "    sportferien_tg_sj_2015_2016.append(current_date.strftime('%Y-%m-%d'))\n",
    "    current_date += datetime.timedelta(days=1)\n",
    "\n",
    "# Frühlingsferien Schuljahr 2015 / 2016\n",
    "ferienbeginn_fruehling2015_2016 = datetime.date(2016, 3, 25)\n",
    "ferienende_fruehling2015_2016 = datetime.date(2016, 4, 10)\n",
    "\n",
    "current_date = ferienbeginn_fruehling2015_2016\n",
    "fruehlingsferien_tg_sj_2015_2016 = []\n",
    "\n",
    "while current_date <= ferienende_fruehling2015_2016:\n",
    "    fruehlingsferien_tg_sj_2015_2016.append(current_date.strftime('%Y-%m-%d'))\n",
    "    current_date += datetime.timedelta(days=1)\n",
    "\n",
    "# Pfingstferien Schuljahr 2015 / 2016\n",
    "ferienbeginn_pfingsten2015_2016 = datetime.date(2016, 5, 5)\n",
    "ferienende_pfingsten2015_2016 = datetime.date(2016, 5, 16)\n",
    "\n",
    "current_date = ferienbeginn_pfingsten2015_2016\n",
    "pfingstferien_tg_sj_2015_2016 = []\n",
    "\n",
    "while current_date <= ferienende_pfingsten2015_2016:\n",
    "    pfingstferien_tg_sj_2015_2016.append(current_date.strftime('%Y-%m-%d'))\n",
    "    current_date += datetime.timedelta(days=1)\n",
    "\n",
    "# Sommerferien Schuljahr 2015 / 2016\n",
    "ferienbeginn_sommer2015_2016 = datetime.date(2016, 7, 11)\n",
    "ferienende_sommer2015_2016 = datetime.date(2016, 8, 14)\n",
    "\n",
    "current_date = ferienbeginn_sommer2015_2016\n",
    "sommerferien_tg_sj_2015_2016 = []\n",
    "\n",
    "while current_date <= ferienende_sommer2015_2016:\n",
    "    sommerferien_tg_sj_2015_2016.append(current_date.strftime('%Y-%m-%d'))\n",
    "    current_date += datetime.timedelta(days=1)\n",
    "\n",
    "\n",
    "gesamtliste_weihnachtsferien.extend(weihnachtsferien_tg_sj_2015_2016)\n",
    "gesamtliste_sportferien.extend(sportferien_tg_sj_2015_2016)\n",
    "gesamtliste_fruehlingsferien.extend(fruehlingsferien_tg_sj_2015_2016)\n",
    "gesamtliste_pfingstferien.extend(pfingstferien_tg_sj_2015_2016)\n",
    "gesamtliste_sommerferien.extend(sommerferien_tg_sj_2015_2016)"
   ]
  },
  {
   "cell_type": "markdown",
   "metadata": {},
   "source": [
    "#### Schuljahr 2016/ 2017"
   ]
  },
  {
   "cell_type": "code",
   "execution_count": null,
   "metadata": {},
   "outputs": [],
   "source": [
    "# Herbstferien Schuljahr 2016 / 2017\n",
    "ferienbeginn_herbst2016_2017 = datetime.date(2016, 10, 10)\n",
    "ferienende_herbst2016_2017 = datetime.date(2016, 10, 23)\n",
    "\n",
    "current_date = ferienbeginn_herbst2016_2017\n",
    "herbstferien_tg_sj_2016_2017 = []\n",
    "\n",
    "while current_date <= ferienende_herbst2016_2017:\n",
    "    herbstferien_tg_sj_2016_2017.append(current_date.strftime('%Y-%m-%d'))\n",
    "    current_date += datetime.timedelta(days=1)\n",
    "\n",
    "# Weihnachtsferien Schuljahr 2016 / 2017\n",
    "ferienbeginn_weihnachten2016_2017 = datetime.date(2016, 12, 26)\n",
    "ferienende_weihnachten2016_2017 = datetime.date(2017, 1, 8)\n",
    "\n",
    "current_date = ferienbeginn_weihnachten2016_2017\n",
    "weihnachtsferien_tg_sj_2016_2017 = []\n",
    "\n",
    "while current_date <= ferienende_weihnachten2016_2017:\n",
    "    weihnachtsferien_tg_sj_2016_2017.append(current_date.strftime('%Y-%m-%d'))\n",
    "    current_date += datetime.timedelta(days=1)\n",
    "\n",
    "# Sportferien Schuljahr 2016 / 2017\n",
    "ferienbeginn_sport2016_2017 = datetime.date(2017, 1, 30)\n",
    "ferienende_sport2016_2017 = datetime.date(2017, 2, 5)\n",
    "\n",
    "current_date = ferienbeginn_sport2016_2017\n",
    "sportferien_tg_sj_2016_2017 = []\n",
    "\n",
    "while current_date <= ferienende_sport2016_2017:\n",
    "    sportferien_tg_sj_2016_2017.append(current_date.strftime('%Y-%m-%d'))\n",
    "    current_date += datetime.timedelta(days=1)\n",
    "\n",
    "# Frühlingsferien Schuljahr 2016 / 2017\n",
    "ferienbeginn_fruehling2016_2017 = datetime.date(2017, 4, 3)\n",
    "ferienende_fruehling2016_2017 = datetime.date(2017, 4, 17)\n",
    "\n",
    "current_date = ferienbeginn_fruehling2016_2017\n",
    "fruehlingsferien_tg_sj_2016_2017 = []\n",
    "\n",
    "while current_date <= ferienende_fruehling2016_2017:\n",
    "    fruehlingsferien_tg_sj_2016_2017.append(current_date.strftime('%Y-%m-%d'))\n",
    "    current_date += datetime.timedelta(days=1)\n",
    "\n",
    "# Pfingstferien Schuljahr 2016 / 2017\n",
    "ferienbeginn_pfingsten2016_2017 = datetime.date(2017, 5, 25)\n",
    "ferienende_pfingsten2016_2017 = datetime.date(2017, 6, 5)\n",
    "\n",
    "current_date = ferienbeginn_pfingsten2016_2017\n",
    "pfingstferien_tg_sj_2016_2017 = []\n",
    "\n",
    "while current_date <= ferienende_pfingsten2016_2017:\n",
    "    pfingstferien_tg_sj_2016_2017.append(current_date.strftime('%Y-%m-%d'))\n",
    "    current_date += datetime.timedelta(days=1)\n",
    "\n",
    "# Sommerferien Schuljahr 2016 / 2017\n",
    "ferienbeginn_sommer2016_2017 = datetime.date(2017, 7, 10)\n",
    "ferienende_sommer2016_2017 = datetime.date(2017, 8, 13)\n",
    "\n",
    "current_date = ferienbeginn_sommer2016_2017\n",
    "sommerferien_tg_sj_2016_2017 = []\n",
    "\n",
    "while current_date <= ferienende_sommer2016_2017:\n",
    "    sommerferien_tg_sj_2016_2017.append(current_date.strftime('%Y-%m-%d'))\n",
    "    current_date += datetime.timedelta(days=1)\n",
    "\n",
    "gesamtliste_herbstferien.extend(herbstferien_tg_sj_2016_2017)\n",
    "gesamtliste_weihnachtsferien.extend(weihnachtsferien_tg_sj_2016_2017)\n",
    "gesamtliste_sportferien.extend(sportferien_tg_sj_2016_2017)\n",
    "gesamtliste_fruehlingsferien.extend(fruehlingsferien_tg_sj_2016_2017)\n",
    "gesamtliste_pfingstferien.extend(pfingstferien_tg_sj_2016_2017)\n",
    "gesamtliste_sommerferien.extend(sommerferien_tg_sj_2016_2017)\n",
    "\n"
   ]
  },
  {
   "cell_type": "markdown",
   "metadata": {},
   "source": [
    "#### Schuljahr 2017/ 2018"
   ]
  },
  {
   "cell_type": "code",
   "execution_count": null,
   "metadata": {},
   "outputs": [],
   "source": [
    "# Herbstferien Schuljahr 2017 / 2018\n",
    "ferienbeginn_herbst2017_2018 = datetime.date(2017, 10, 9)\n",
    "ferienende_herbst2017_2018 = datetime.date(2017, 10, 22)\n",
    "\n",
    "current_date = ferienbeginn_herbst2017_2018\n",
    "herbstferien_tg_sj_2017_2018 = []\n",
    "\n",
    "while current_date <= ferienende_herbst2017_2018:\n",
    "    herbstferien_tg_sj_2017_2018.append(current_date.strftime('%Y-%m-%d'))\n",
    "    current_date += datetime.timedelta(days=1)\n",
    "\n",
    "# Weihnachtsferien Schuljahr 2017 / 2018\n",
    "ferienbeginn_weihnachten2017_2018 = datetime.date(2017, 12, 25)\n",
    "ferienende_weihnachten2017_2018 = datetime.date(2018, 1, 7)\n",
    "\n",
    "current_date = ferienbeginn_weihnachten2017_2018\n",
    "weihnachtsferien_tg_sj_2017_2018 = []\n",
    "\n",
    "while current_date <= ferienende_weihnachten2017_2018:\n",
    "    weihnachtsferien_tg_sj_2017_2018.append(current_date.strftime('%Y-%m-%d'))\n",
    "    current_date += datetime.timedelta(days=1)\n",
    "\n",
    "# Sportferien Schuljahr 2017 / 2018\n",
    "ferienbeginn_sport2017_2018 = datetime.date(2018, 1, 29)\n",
    "ferienende_sport2017_2018 = datetime.date(2018, 2, 4)\n",
    "\n",
    "current_date = ferienbeginn_sport2017_2018\n",
    "sportferien_tg_sj_2017_2018 = []\n",
    "\n",
    "while current_date <= ferienende_sport2017_2018:\n",
    "    sportferien_tg_sj_2017_2018.append(current_date.strftime('%Y-%m-%d'))\n",
    "    current_date += datetime.timedelta(days=1)\n",
    "\n",
    "# Frühlingsferien Schuljahr 2017 / 2018\n",
    "ferienbeginn_fruehling2017_2018 = datetime.date(2018, 3, 30)\n",
    "ferienende_fruehling2017_2018 = datetime.date(2018, 4, 15)\n",
    "\n",
    "current_date = ferienbeginn_fruehling2017_2018\n",
    "fruehlingsferien_tg_sj_2017_2018 = []\n",
    "\n",
    "while current_date <= ferienende_fruehling2017_2018:\n",
    "    fruehlingsferien_tg_sj_2017_2018.append(current_date.strftime('%Y-%m-%d'))\n",
    "    current_date += datetime.timedelta(days=1)\n",
    "\n",
    "# Pfingstferien Schuljahr 2017 / 2018\n",
    "ferienbeginn_pfingsten2017_2018 = datetime.date(2018, 5, 10)\n",
    "ferienende_pfingsten2017_2018 = datetime.date(2018, 5, 21)\n",
    "\n",
    "current_date = ferienbeginn_pfingsten2017_2018\n",
    "pfingstferien_tg_sj_2017_2018 = []\n",
    "\n",
    "while current_date <= ferienende_pfingsten2017_2018:\n",
    "    pfingstferien_tg_sj_2017_2018.append(current_date.strftime('%Y-%m-%d'))\n",
    "    current_date += datetime.timedelta(days=1)\n",
    "\n",
    "# Sommerferien Schuljahr 2017 / 2018\n",
    "ferienbeginn_sommer2017_2018 = datetime.date(2018, 7, 9)\n",
    "ferienende_sommer2017_2018 = datetime.date(2018, 8, 12)\n",
    "\n",
    "current_date = ferienbeginn_sommer2017_2018\n",
    "sommerferien_tg_sj_2017_2018 = []\n",
    "\n",
    "while current_date <= ferienende_sommer2017_2018:\n",
    "    sommerferien_tg_sj_2017_2018.append(current_date.strftime('%Y-%m-%d'))\n",
    "    current_date += datetime.timedelta(days=1)\n",
    "\n",
    "gesamtliste_herbstferien.extend(herbstferien_tg_sj_2017_2018)\n",
    "gesamtliste_weihnachtsferien.extend(weihnachtsferien_tg_sj_2017_2018)\n",
    "gesamtliste_sportferien.extend(sportferien_tg_sj_2017_2018)\n",
    "gesamtliste_fruehlingsferien.extend(fruehlingsferien_tg_sj_2017_2018)\n",
    "gesamtliste_pfingstferien.extend(pfingstferien_tg_sj_2017_2018)\n",
    "gesamtliste_sommerferien.extend(sommerferien_tg_sj_2017_2018)"
   ]
  },
  {
   "cell_type": "markdown",
   "metadata": {},
   "source": [
    "#### Schuljahr 2018/ 2019"
   ]
  },
  {
   "cell_type": "code",
   "execution_count": null,
   "metadata": {},
   "outputs": [],
   "source": [
    "# Herbstferien Schuljahr 2018 / 2019\n",
    "ferienbeginn_herbst2018_2019 = datetime.date(2018, 10, 8)\n",
    "ferienende_herbst2018_2019 = datetime.date(2018, 10, 21)\n",
    "\n",
    "current_date = ferienbeginn_herbst2018_2019\n",
    "herbstferien_tg_sj_2018_2019 = []\n",
    "\n",
    "while current_date <= ferienende_herbst2018_2019:\n",
    "    herbstferien_tg_sj_2018_2019.append(current_date.strftime('%Y-%m-%d'))\n",
    "    current_date += datetime.timedelta(days=1)\n",
    "\n",
    "# Weihnachtsferien Schuljahr 2018 / 2019\n",
    "ferienbeginn_weihnachten2018_2019 = datetime.date(2018, 12, 24)\n",
    "ferienende_weihnachten2018_2019 = datetime.date(2019, 1, 6)\n",
    "\n",
    "current_date = ferienbeginn_weihnachten2018_2019\n",
    "weihnachtsferien_tg_sj_2018_2019 = []\n",
    "\n",
    "while current_date <= ferienende_weihnachten2018_2019:\n",
    "    weihnachtsferien_tg_sj_2018_2019.append(current_date.strftime('%Y-%m-%d'))\n",
    "    current_date += datetime.timedelta(days=1)\n",
    "\n",
    "# Sportferien Schuljahr 2018 / 2019\n",
    "ferienbeginn_sport2018_2019 = datetime.date(2019, 1, 28)\n",
    "ferienende_sport2018_2019 = datetime.date(2019, 2, 3)\n",
    "\n",
    "current_date = ferienbeginn_sport2018_2019\n",
    "sportferien_tg_sj_2018_2019 = []\n",
    "\n",
    "while current_date <= ferienende_sport2018_2019:\n",
    "    sportferien_tg_sj_2018_2019.append(current_date.strftime('%Y-%m-%d'))\n",
    "    current_date += datetime.timedelta(days=1)\n",
    "\n",
    "# Frühlingsferien Schuljahr 2018 / 2019\n",
    "ferienbeginn_fruehling2018_2019 = datetime.date(2019, 4, 19)\n",
    "ferienende_fruehling2018_2019 = datetime.date(2019, 4, 22)\n",
    "\n",
    "current_date = ferienbeginn_fruehling2018_2019\n",
    "fruehlingsferien_tg_sj_2018_2019 = []\n",
    "\n",
    "while current_date <= ferienende_fruehling2018_2019:\n",
    "    fruehlingsferien_tg_sj_2018_2019.append(current_date.strftime('%Y-%m-%d'))\n",
    "    current_date += datetime.timedelta(days=1)\n",
    "\n",
    "# Pfingstferien Schuljahr 2018 / 2019\n",
    "ferienbeginn_pfingsten2018_2019 = datetime.date(2019, 5, 30)\n",
    "ferienende_pfingsten2018_2019 = datetime.date(2019, 6, 10)\n",
    "\n",
    "current_date = ferienbeginn_pfingsten2018_2019\n",
    "pfingstferien_tg_sj_2018_2019 = []\n",
    "\n",
    "while current_date <= ferienende_pfingsten2018_2019:\n",
    "    pfingstferien_tg_sj_2018_2019.append(current_date.strftime('%Y-%m-%d'))\n",
    "    current_date += datetime.timedelta(days=1)\n",
    "\n",
    "# Sommerferien Schuljahr 2018 / 2019\n",
    "ferienbeginn_sommer2018_2019 = datetime.date(2019, 7, 8)\n",
    "ferienende_sommer2018_2019 = datetime.date(2019, 8, 11)\n",
    "\n",
    "current_date = ferienbeginn_sommer2018_2019\n",
    "sommerferien_tg_sj_2018_2019 = []\n",
    "\n",
    "while current_date <= ferienende_sommer2018_2019:\n",
    "    sommerferien_tg_sj_2018_2019.append(current_date.strftime('%Y-%m-%d'))\n",
    "    current_date += datetime.timedelta(days=1)\n",
    "\n",
    "gesamtliste_herbstferien.extend(herbstferien_tg_sj_2018_2019)\n",
    "gesamtliste_weihnachtsferien.extend(weihnachtsferien_tg_sj_2018_2019)\n",
    "gesamtliste_sportferien.extend(sportferien_tg_sj_2018_2019)\n",
    "gesamtliste_fruehlingsferien.extend(fruehlingsferien_tg_sj_2018_2019)\n",
    "gesamtliste_pfingstferien.extend(pfingstferien_tg_sj_2018_2019)\n",
    "gesamtliste_sommerferien.extend(sommerferien_tg_sj_2018_2019)"
   ]
  },
  {
   "cell_type": "markdown",
   "metadata": {},
   "source": [
    "#### Schuljahr 2019/ 2020"
   ]
  },
  {
   "cell_type": "code",
   "execution_count": null,
   "metadata": {},
   "outputs": [],
   "source": [
    "# Herbstferien Schuljahr 2019 / 2020\n",
    "ferienbeginn_herbst2019_2020 = datetime.date(2019, 10, 7)\n",
    "ferienende_herbst2019_2020 = datetime.date(2019, 10, 20)\n",
    "\n",
    "current_date = ferienbeginn_herbst2019_2020\n",
    "herbstferien_tg_sj_2019_2020 = []\n",
    "\n",
    "while current_date <= ferienende_herbst2019_2020:\n",
    "    herbstferien_tg_sj_2019_2020.append(current_date.strftime('%Y-%m-%d'))\n",
    "    current_date += datetime.timedelta(days=1)\n",
    "\n",
    "# Weihnachtsferien Schuljahr 2019 / 2020\n",
    "ferienbeginn_weihnachten2019_2020 = datetime.date(2019, 12, 23)\n",
    "ferienende_weihnachten2019_2020 = datetime.date(2020, 1, 5)\n",
    "\n",
    "current_date = ferienbeginn_weihnachten2019_2020\n",
    "weihnachtsferien_tg_sj_2019_2020 = []\n",
    "\n",
    "while current_date <= ferienende_weihnachten2019_2020:\n",
    "    weihnachtsferien_tg_sj_2019_2020.append(current_date.strftime('%Y-%m-%d'))\n",
    "    current_date += datetime.timedelta(days=1)\n",
    "\n",
    "# Sportferien Schuljahr 2019 / 2020\n",
    "ferienbeginn_sport2019_2020 = datetime.date(2020, 1, 27)\n",
    "ferienende_sport2019_2020 = datetime.date(2020, 2, 2)\n",
    "\n",
    "current_date = ferienbeginn_sport2019_2020\n",
    "sportferien_tg_sj_2019_2020 = []\n",
    "\n",
    "while current_date <= ferienende_sport2019_2020:\n",
    "    sportferien_tg_sj_2019_2020.append(current_date.strftime('%Y-%m-%d'))\n",
    "    current_date += datetime.timedelta(days=1)\n",
    "\n",
    "# Frühlingsferien Schuljahr 2019 / 2020\n",
    "ferienbeginn_fruehling2019_2020 = datetime.date(2020, 3, 30)\n",
    "ferienende_fruehling2019_2020 = datetime.date(2020, 4, 13)\n",
    "\n",
    "current_date = ferienbeginn_fruehling2019_2020\n",
    "fruehlingsferien_tg_sj_2019_2020 = []\n",
    "\n",
    "while current_date <= ferienende_fruehling2019_2020:\n",
    "    fruehlingsferien_tg_sj_2019_2020.append(current_date.strftime('%Y-%m-%d'))\n",
    "    current_date += datetime.timedelta(days=1)\n",
    "\n",
    "# Pfingstferien Schuljahr 2019 / 2020\n",
    "ferienbeginn_pfingsten2019_2020 = datetime.date(2020, 5, 21)\n",
    "ferienende_pfingsten2019_2020 = datetime.date(2020, 6, 1)\n",
    "\n",
    "current_date = ferienbeginn_pfingsten2019_2020\n",
    "pfingstferien_tg_sj_2019_2020 = []\n",
    "\n",
    "while current_date <= ferienende_pfingsten2019_2020:\n",
    "    pfingstferien_tg_sj_2019_2020.append(current_date.strftime('%Y-%m-%d'))\n",
    "    current_date += datetime.timedelta(days=1)\n",
    "\n",
    "# Sommerferien Schuljahr 2019 / 2020\n",
    "ferienbeginn_sommer2019_2020 = datetime.date(2020, 7, 6)\n",
    "ferienende_sommer2019_2020 = datetime.date(2020, 8, 9)\n",
    "\n",
    "current_date = ferienbeginn_sommer2019_2020\n",
    "sommerferien_tg_sj_2019_2020 = []\n",
    "\n",
    "while current_date <= ferienende_sommer2019_2020:\n",
    "    sommerferien_tg_sj_2019_2020.append(current_date.strftime('%Y-%m-%d'))\n",
    "    current_date += datetime.timedelta(days=1)\n",
    "\n",
    "gesamtliste_herbstferien.extend(herbstferien_tg_sj_2019_2020)\n",
    "gesamtliste_weihnachtsferien.extend(weihnachtsferien_tg_sj_2019_2020)\n",
    "gesamtliste_sportferien.extend(sportferien_tg_sj_2019_2020)\n",
    "gesamtliste_fruehlingsferien.extend(fruehlingsferien_tg_sj_2019_2020)\n",
    "gesamtliste_pfingstferien.extend(pfingstferien_tg_sj_2019_2020)\n",
    "gesamtliste_sommerferien.extend(sommerferien_tg_sj_2019_2020)"
   ]
  },
  {
   "cell_type": "markdown",
   "metadata": {},
   "source": [
    "#### Schuljahr 2020/ 2021"
   ]
  },
  {
   "cell_type": "code",
   "execution_count": null,
   "metadata": {},
   "outputs": [],
   "source": [
    "# Herbstferien Schuljahr 2020 / 2021\n",
    "ferienbeginn_herbst2020_2021 = datetime.date(2020, 10, 5)\n",
    "ferienende_herbst2020_2021 = datetime.date(2020, 10, 18)\n",
    "\n",
    "current_date = ferienbeginn_herbst2020_2021\n",
    "herbstferien_tg_sj_2020_2021 = []\n",
    "\n",
    "while current_date <= ferienende_herbst2020_2021:\n",
    "    herbstferien_tg_sj_2020_2021.append(current_date.strftime('%Y-%m-%d'))\n",
    "    current_date += datetime.timedelta(days=1)\n",
    "\n",
    "# Weihnachtsferien Schuljahr 2020 / 2021\n",
    "ferienbeginn_weihnachten2020_2021 = datetime.date(2020, 12, 21)\n",
    "ferienende_weihnachten2020_2021 = datetime.date(2021, 1, 3)\n",
    "\n",
    "current_date = ferienbeginn_weihnachten2020_2021\n",
    "weihnachtsferien_tg_sj_2020_2021 = []\n",
    "\n",
    "while current_date <= ferienende_weihnachten2020_2021:\n",
    "    weihnachtsferien_tg_sj_2020_2021.append(current_date.strftime('%Y-%m-%d'))\n",
    "    current_date += datetime.timedelta(days=1)\n",
    "\n",
    "# Sportferien Schuljahr 2020 / 2021\n",
    "ferienbeginn_sport2020_2021 = datetime.date(2021, 2, 1)\n",
    "ferienende_sport2020_2021 = datetime.date(2021, 2, 7)\n",
    "\n",
    "current_date = ferienbeginn_sport2020_2021\n",
    "sportferien_tg_sj_2020_2021 = []\n",
    "\n",
    "while current_date <= ferienende_sport2020_2021:\n",
    "    sportferien_tg_sj_2020_2021.append(current_date.strftime('%Y-%m-%d'))\n",
    "    current_date += datetime.timedelta(days=1)\n",
    "\n",
    "# Frühlingsferien Schuljahr 2020 / 2021\n",
    "ferienbeginn_fruehling2020_2021 = datetime.date(2021, 4, 2)\n",
    "ferienende_fruehling2020_2021 = datetime.date(2021, 4, 18)\n",
    "\n",
    "current_date = ferienbeginn_fruehling2020_2021\n",
    "fruehlingsferien_tg_sj_2020_2021 = []\n",
    "\n",
    "while current_date <= ferienende_fruehling2020_2021:\n",
    "    fruehlingsferien_tg_sj_2020_2021.append(current_date.strftime('%Y-%m-%d'))\n",
    "    current_date += datetime.timedelta(days=1)\n",
    "\n",
    "# Pfingstferien Schuljahr 2020 / 2021\n",
    "ferienbeginn_pfingsten2020_2021 = datetime.date(2021, 5, 13)\n",
    "ferienende_pfingsten2020_2021 = datetime.date(2021, 5, 24)\n",
    "\n",
    "current_date = ferienbeginn_pfingsten2020_2021\n",
    "pfingstferien_tg_sj_2020_2021 = []\n",
    "\n",
    "while current_date <= ferienende_pfingsten2020_2021:\n",
    "    pfingstferien_tg_sj_2020_2021.append(current_date.strftime('%Y-%m-%d'))\n",
    "    current_date += datetime.timedelta(days=1)\n",
    "\n",
    "# Sommerferien Schuljahr 2020 / 2021\n",
    "ferienbeginn_sommer2020_2021 = datetime.date(2021, 7, 12)\n",
    "ferienende_sommer2020_2021 = datetime.date(2021, 8, 15)\n",
    "\n",
    "current_date = ferienbeginn_sommer2020_2021\n",
    "sommerferien_tg_sj_2020_2021 = []\n",
    "\n",
    "while current_date <= ferienende_sommer2020_2021:\n",
    "    sommerferien_tg_sj_2020_2021.append(current_date.strftime('%Y-%m-%d'))\n",
    "    current_date += datetime.timedelta(days=1)\n",
    "\n",
    "gesamtliste_herbstferien.extend(herbstferien_tg_sj_2020_2021)\n",
    "gesamtliste_weihnachtsferien.extend(weihnachtsferien_tg_sj_2020_2021)\n",
    "gesamtliste_sportferien.extend(sportferien_tg_sj_2020_2021)\n",
    "gesamtliste_fruehlingsferien.extend(fruehlingsferien_tg_sj_2020_2021)\n",
    "gesamtliste_pfingstferien.extend(pfingstferien_tg_sj_2020_2021)\n",
    "gesamtliste_sommerferien.extend(sommerferien_tg_sj_2020_2021)"
   ]
  },
  {
   "cell_type": "markdown",
   "metadata": {},
   "source": [
    "#### Schuljahr 2021/ 2022"
   ]
  },
  {
   "cell_type": "code",
   "execution_count": null,
   "metadata": {},
   "outputs": [],
   "source": [
    "# Herbstferien Schuljahr 2021 / 2022\n",
    "ferienbeginn_herbst2021_2022 = datetime.date(2021, 10, 11)\n",
    "ferienende_herbst2021_2022 = datetime.date(2021, 10, 24)\n",
    "\n",
    "current_date = ferienbeginn_herbst2021_2022\n",
    "herbstferien_tg_sj_2021_2022 = []\n",
    "\n",
    "while current_date <= ferienende_herbst2021_2022:\n",
    "    herbstferien_tg_sj_2021_2022.append(current_date.strftime('%Y-%m-%d'))\n",
    "    current_date += datetime.timedelta(days=1)\n",
    "\n",
    "# Weihnachtsferien Schuljahr 2021 / 2022\n",
    "ferienbeginn_weihnachten2021_2022 = datetime.date(2021, 12, 20)\n",
    "ferienende_weihnachten2021_2022 = datetime.date(2022, 1, 2)\n",
    "\n",
    "current_date = ferienbeginn_weihnachten2021_2022\n",
    "weihnachtsferien_tg_sj_2021_2022 = []\n",
    "\n",
    "while current_date <= ferienende_weihnachten2021_2022:\n",
    "    weihnachtsferien_tg_sj_2021_2022.append(current_date.strftime('%Y-%m-%d'))\n",
    "    current_date += datetime.timedelta(days=1)\n",
    "\n",
    "# Sportferien Schuljahr 2021 / 2022\n",
    "ferienbeginn_sport2021_2022 = datetime.date(2022, 1, 31)\n",
    "ferienende_sport2021_2022 = datetime.date(2022, 2, 6)\n",
    "\n",
    "current_date = ferienbeginn_sport2021_2022\n",
    "sportferien_tg_sj_2021_2022 = []\n",
    "\n",
    "while current_date <= ferienende_sport2021_2022:\n",
    "    sportferien_tg_sj_2021_2022.append(current_date.strftime('%Y-%m-%d'))\n",
    "    current_date += datetime.timedelta(days=1)\n",
    "\n",
    "# mehr brauchen wir zurzeit nicht\n",
    "\n",
    "gesamtliste_herbstferien.extend(herbstferien_tg_sj_2021_2022)\n",
    "gesamtliste_weihnachtsferien.extend(weihnachtsferien_tg_sj_2021_2022)\n",
    "gesamtliste_sportferien.extend(sportferien_tg_sj_2021_2022)\n"
   ]
  },
  {
   "cell_type": "code",
   "execution_count": null,
   "metadata": {},
   "outputs": [],
   "source": [
    "print(gesamtliste_herbstferien)\n",
    "data['Datum'] = pd.to_datetime(data['Datum'])\n",
    "\n",
    "data.loc[data['Datum'].isin(gesamtliste_herbstferien), 'Ferienzeit TG'] = 'Herbstferien'\n",
    "data.loc[data['Datum'].isin(gesamtliste_weihnachtsferien), 'Ferienzeit TG'] = 'Weihnachtsferien'\n",
    "data.loc[data['Datum'].isin(gesamtliste_sportferien), 'Ferienzeit TG'] = 'Sportferien'\n",
    "data.loc[data['Datum'].isin(gesamtliste_fruehlingsferien), 'Ferienzeit TG'] = 'Frühlingsferien'\n",
    "data.loc[data['Datum'].isin(gesamtliste_pfingstferien), 'Ferienzeit TG'] = 'Pfingstferien'\n",
    "data.loc[data['Datum'].isin(gesamtliste_sommerferien), 'Ferienzeit TG'] = 'Sommerferien'\n",
    "\n",
    "data.head()"
   ]
  },
  {
   "cell_type": "markdown",
   "metadata": {},
   "source": [
    "#### Auswertungen"
   ]
  },
  {
   "cell_type": "code",
   "execution_count": null,
   "metadata": {},
   "outputs": [],
   "source": [
    "data['Datum'].dtype"
   ]
  },
  {
   "cell_type": "code",
   "execution_count": null,
   "metadata": {},
   "outputs": [],
   "source": [
    "# Daten für Weihnachtsferien filtern und Menge summieren\n",
    "weihnachtsferien = data[data['Ferienzeit TG'] == 'Weihnachtsferien']\n",
    "weihnachtsferien_summe = weihnachtsferien['Menge'].sum() / 1000\n",
    "\n",
    "# Daten für Sommerferien filtern und Menge summieren\n",
    "sommerferien = data[data['Ferienzeit TG'] == 'Sommerferien']\n",
    "sommerferien_summe = sommerferien['Menge'].sum() / 1000\n",
    "\n",
    "# Balkendiagramm erstellen\n",
    "ferien = ['Weihnachtsferien', 'Sommerferien']\n",
    "verkaufsmenge = [weihnachtsferien_summe, sommerferien_summe]\n",
    "\n",
    "plt.bar(ferien, verkaufsmenge)\n",
    "plt.xlabel('Ferienzeit')\n",
    "plt.ylabel('Verkaufsmenge (in Tausend)')\n",
    "plt.title('Verkaufsmenge während der Ferienzeit')\n",
    "plt.show()\n"
   ]
  },
  {
   "cell_type": "markdown",
   "metadata": {},
   "source": [
    "Obwohl die Sommerferien nur doppelt so lange dauern wie die Winterferien, werden ca. drei Mal so viele Backwaren verkauft."
   ]
  },
  {
   "cell_type": "code",
   "execution_count": null,
   "metadata": {},
   "outputs": [],
   "source": [
    "# Liste der Ferienzeiten\n",
    "ferienzeiten = ['Herbstferien', 'Weihnachtsferien', 'Sportferien', 'Frühlingsferien', 'Pfingstferien', 'Sommerferien']\n",
    "\n",
    "# Verkaufsmenge für jede Ferienzeit berechnen\n",
    "verkaufsmenge = []\n",
    "for ferienzeit in ferienzeiten:\n",
    "    ferien = data[data['Ferienzeit TG'] == ferienzeit]\n",
    "    ferien_summe = ferien['Menge'].sum() / 1000\n",
    "    verkaufsmenge.append(ferien_summe)\n",
    "\n",
    "# Farben definieren\n",
    "farben = ['orange', 'red', 'blue', 'green', 'pink', 'yellow']\n",
    "\n",
    "# Balkendiagramm erstellen\n",
    "fig, ax = plt.subplots(figsize=(10, 6))\n",
    "ax.bar(ferienzeiten, verkaufsmenge, color=farben)\n",
    "ax.set_xlabel('Ferienzeit')\n",
    "ax.set_ylabel('Verkaufsmenge (in Tausend)')\n",
    "ax.set_title('Verkaufsmenge während der Ferienzeit')\n",
    "plt.show()"
   ]
  },
  {
   "cell_type": "markdown",
   "metadata": {},
   "source": [
    "Man sieht, die Zeit der Sommerferien ist mit Abstand die profitabelste Ferienzeit für die Bäckerei."
   ]
  },
  {
   "cell_type": "code",
   "execution_count": null,
   "metadata": {},
   "outputs": [],
   "source": [
    "import matplotlib.pyplot as plt\n",
    "\n",
    "fig, ax = plt.subplots(figsize=(12, 6))\n",
    "ax.scatter(data['Ferienzeit TG'], data['Menge'])\n",
    "ax.set_title('Verkaufsmenge in Abhängigkeit von Ferienzeit')\n",
    "ax.set_xlabel('Ferienzeit')\n",
    "ax.set_ylabel('Verkaufsmenge')\n",
    "plt.show()"
   ]
  },
  {
   "cell_type": "code",
   "execution_count": null,
   "metadata": {},
   "outputs": [],
   "source": [
    "import pandas as pd\n",
    "import matplotlib.pyplot as plt\n",
    "\n",
    "\n",
    "# Umwandeln der Ferienzeit-Spalte in eine kategorische Variable und Festlegen der Sortierung\n",
    "ferienzeit_order = [\"Herbstferien\", \"Weihnachtsferien\", \"Sportferien\", \"Frühlingsferien\", \"Pfingstferien\", \"Sommerferien\"]\n",
    "data[\"Ferienzeit TG\"] = pd.Categorical(data[\"Ferienzeit TG\"], categories=ferienzeit_order, ordered=True)\n",
    "\n",
    "# Gruppieren nach Ferienzeit und Berechnen der durchschnittlichen Verkaufsmenge\n",
    "grouped_data = data.groupby(\"Ferienzeit TG\")[\"Menge\"].mean()\n",
    "\n",
    "# Erstellen des Balkendiagramms\n",
    "plt.figure(figsize=(12, 6))\n",
    "plt.bar(grouped_data.index, grouped_data.values)\n",
    "plt.title(\"Durchschnittliche Verkaufsmenge pro Ferienzeit\")\n",
    "plt.xlabel(\"Ferienzeit\")\n",
    "plt.ylabel(\"Durchschnittliche Verkaufsmenge\")\n",
    "plt.show()\n"
   ]
  },
  {
   "cell_type": "markdown",
   "metadata": {},
   "source": [
    "### 2.3.2 Süß und Herzhaft"
   ]
  },
  {
   "cell_type": "markdown",
   "metadata": {},
   "source": [
    "Wir vermuten einen Zusammenhang zwischen verkaufter Menge und ob ein Produkt süß oder herzhaft ist. Eine Hypothese ist hier beispielsweise, dass an manchen Tagen mehr süße Produkte als Herzhafte Produkte verkauft werden. So könnten Kunden vielleicht Montags eher süßes Gebäck kaufen, weil sie gestresst wegen der Arbeit sind. Genauso gut, könnte ein Peak aber auch richtung Wochenende liegen, da viele sich dann eher etwas süßes vom Bäcker gönnen. \n",
    "\n",
    "(Anmerkung: Wir haben die Christliche Fastenzeit nur bis Gründonnerstag beschränkt, obwohl sie streng genommen bis Ostersonntag geht. Grund dafür ist, dass viele Gebäck für die Feiertage im Voraus einkaufen)"
   ]
  },
  {
   "cell_type": "code",
   "execution_count": null,
   "metadata": {},
   "outputs": [],
   "source": [
    "# Manuelle Klassifizierung der Produkte in 'süss' und 'herzhaft'\n",
    "produkte_süß_herzhaft = pd.DataFrame(produkt_liste['Artikel'])\n",
    "attribute = ['süss', 'herzhaft', 'herzhaft', 'herzhaft', 'herzhaft', 'herzhaft', 'süss', 'süss', 'süss', 'süss', 'süss', 'herzhaft','süss','süss']\n",
    "produkte_süß_herzhaft['Geschmack'] = attribute\n",
    "produkte_süß_herzhaft\n",
    "\n",
    "# Daten mit den manuell klassifizierten Produkten zusammenführen\n",
    "data = pd.merge(data, produkte_süß_herzhaft, on='Artikel')\n",
    "data = data.rename(columns={'Geschmack_y': 'Geschmack'})\n"
   ]
  },
  {
   "cell_type": "markdown",
   "metadata": {},
   "source": [
    "### 2.3.3 Fastenzeit"
   ]
  },
  {
   "cell_type": "markdown",
   "metadata": {},
   "source": [
    "Als erstes Fügen wir die Christliche Fastenzeit zum Datensatz hinzu, da wir vermuten, dass einige Menschen in der Fastenzeit zumindest weniger Alkohol und Süßigkeiten konsumieren. "
   ]
  },
  {
   "cell_type": "code",
   "execution_count": null,
   "metadata": {},
   "outputs": [],
   "source": [
    "import datetime \n",
    "start_datum = data[\"Datum\"].min()\n",
    "end_datum = data[\"Datum\"].max()\n",
    "\n",
    "# Fastenzeit start und Enddaten zwischen 2015 und 2022\n",
    "fastenzeit = [\n",
    "    (datetime.date(2015, 2, 18), datetime.date(2015, 4, 2)),\n",
    "    (datetime.date(2016, 2, 10), datetime.date(2016, 3, 24)),\n",
    "    (datetime.date(2017, 3, 1), datetime.date(2017, 4, 16)),\n",
    "    (datetime.date(2018, 2, 14), datetime.date(2018, 3, 29)),\n",
    "    (datetime.date(2019, 3, 6), datetime.date(2019, 4, 18)),\n",
    "    (datetime.date(2020, 2, 26), datetime.date(2020, 4, 9)),\n",
    "    (datetime.date(2021, 2, 17), datetime.date(2021, 4, 1)),\n",
    "    (datetime.date(2022, 3, 2), datetime.date(2022, 4, 14)),\n",
    "]\n",
    "# Function to check if a date is within Lent period\n",
    "def is_lent(date):\n",
    "    for start, end in fastenzeit:\n",
    "        if start <= date.date() <= end:\n",
    "\n",
    "        \n",
    "            return 1\n",
    "    return 0\n",
    "\n",
    "# Anwendung der Funktion auf die Daten und Erstellung einer neuen Spalte\n",
    "data['Fastenzeit'] = data['Datum'].apply(is_lent)\n"
   ]
  },
  {
   "cell_type": "markdown",
   "metadata": {},
   "source": [
    "Als nächstes fügen wir eine Spalte hinzu die sagt, ob ein Verkauf während des Ramadhans stattgefunden hat. Wir vermuten hier einen Zusammenhang mit den Verkäufen, da sich auch eine Muslimische Gemeinde in der Nähe der Filiale befindet"
   ]
  },
  {
   "cell_type": "code",
   "execution_count": null,
   "metadata": {},
   "outputs": [],
   "source": [
    "# Ramadan Start und Enddaten zwischen 2015 und 2022\n",
    "import datetime \n",
    "Ramadan = [\n",
    "    (datetime.date(2015, 6, 17), datetime.date(2015, 7, 16)),\n",
    "    (datetime.date(2016, 6, 6), datetime.date(2016, 7, 5)),\n",
    "    (datetime.date(2017, 5, 26), datetime.date(2017, 6, 24)),\n",
    "    (datetime.date(2018, 5, 16), datetime.date(2018, 6, 14)),\n",
    "    (datetime.date(2019, 5, 5), datetime.date(2019, 6, 3)),\n",
    "    (datetime.date(2020, 4, 23), datetime.date(2020, 5, 23)),\n",
    "    (datetime.date(2021, 4, 12), datetime.date(2021, 5, 12)),\n",
    "    (datetime.date(2022, 4, 1), datetime.date(2022, 5, 1)),\n",
    "]\n",
    "\n",
    "# Function to check if a date is within Ramadan period\n",
    "def is_ramadan(date):\n",
    "    for start, end in Ramadan:\n",
    "        if start <= date.date() <= end:\n",
    "\n",
    "       \n",
    "\n",
    "            return 1\n",
    "    return 0\n",
    "\n",
    "# Anwendung der Funktion auf die Daten und Erstellung einer neuen Spalte\n",
    "data['Ramadan'] = data['Datum'].apply(is_ramadan)"
   ]
  },
  {
   "cell_type": "code",
   "execution_count": null,
   "metadata": {},
   "outputs": [],
   "source": [
    "data.info()"
   ]
  },
  {
   "cell_type": "markdown",
   "metadata": {},
   "source": [
    "# 6. Forecasting Modelle"
   ]
  },
  {
   "cell_type": "markdown",
   "metadata": {},
   "source": [
    "## 6.1 Vorbereitungen"
   ]
  },
  {
   "cell_type": "markdown",
   "metadata": {},
   "source": [
    "Bevor wir Forecasting Modelle anwenden können müssen wir noch den Datensatz tageweise zusammenfassen"
   ]
  },
  {
   "cell_type": "code",
   "execution_count": null,
   "metadata": {},
   "outputs": [],
   "source": [
    "# Löschen der Zeilen mit Werten über 20 in der Spalte 'butterzopf_mittel'\n",
    "#data_prep = data_prep.loc[data_prep['butterzopf_mittel'] > 20, 'butterzopf_mittel'] = None"
   ]
  },
  {
   "cell_type": "code",
   "execution_count": null,
   "metadata": {},
   "outputs": [],
   "source": [
    "data.info()"
   ]
  },
  {
   "cell_type": "code",
   "execution_count": null,
   "metadata": {},
   "outputs": [],
   "source": [
    "# Verschiedene Werte in Spalte 'Ferienzeit TG'\n",
    "data['Ferienzeit TG'].unique()"
   ]
  },
  {
   "cell_type": "code",
   "execution_count": null,
   "metadata": {},
   "outputs": [],
   "source": [
    "# Add 'Keine Ferienzeit' as a new category to 'Ferienzeit TG' column\n",
    "data['Ferienzeit TG'] = data['Ferienzeit TG'].cat.add_categories(['Keine Ferienzeit'])\n",
    "\n",
    "# Fill missing values with the new category\n",
    "data['Ferienzeit TG'] = data['Ferienzeit TG'].fillna('Keine Ferienzeit')"
   ]
  },
  {
   "cell_type": "code",
   "execution_count": null,
   "metadata": {},
   "outputs": [],
   "source": [
    "# Droppen von Spalten, die nicht zur Regression beitragen\n",
    "data_prep = data.drop(['Stückpreis', 'Wochentag', 'Umsatz', 'Niederschlag', 'Uhrzeit', 'Stunde', 'Feiertag Name'], axis = 1)\n",
    "data_prep = pd.get_dummies(data_prep, columns = ['Ferienzeit TG', 'Geschmack', 'Vortag von'])\n",
    "data_prep.info()"
   ]
  },
  {
   "cell_type": "code",
   "execution_count": null,
   "metadata": {},
   "outputs": [],
   "source": [
    "# Entfernen von Missing Values außer in Dummies\n",
    "data_prep = data_prep.dropna()\n",
    "data_prep.info()"
   ]
  },
  {
   "cell_type": "code",
   "execution_count": null,
   "metadata": {},
   "outputs": [],
   "source": [
    "data_prep.head()"
   ]
  },
  {
   "cell_type": "code",
   "execution_count": null,
   "metadata": {},
   "outputs": [],
   "source": [
    "# One-Hot-Encoding für die Spalte \"Artikel\"\n",
    "#data_prep = pd. get_dummies (data_prep, columns = [ 'Artikel' ])\n",
    "\n",
    "# Gruppieren der Daten nach Datum und berechnen der Summe der Menge pro Artikel\n",
    "sum_cols = ['Menge', 'Bestellungen']\n",
    "\n",
    "mean_cols = ['Temperatur Schnitt Tag','Niederschlag Summe Tag', \n",
    "             'Globalstrahlung Schnitt Tag', 'Fastenzeit','Ramadan']\n",
    "\n",
    "for col in data_prep.columns:\n",
    "    if col.startswith(('Ferienzeit', 'Geschmack', 'Feiertag', 'Vortag von')):\n",
    "        mean_cols.append(col)\n",
    "\n",
    "agg_dict = {col: 'sum' for col in sum_cols}\n",
    "agg_dict.update({col: 'mean' for col in mean_cols})\n",
    "\n",
    "data_prep = data_prep.groupby(['Datum', 'Artikel']).agg(agg_dict).reset_index()\n",
    "\n",
    "# Ersetzen der Leerzeichen in Artikel mit Unterstrich\n",
    "data_prep['Artikel'] = data_prep['Artikel'].str.replace(' ', '_')\n",
    "data_prep = data_prep.drop('Datum', axis = 1)\n",
    "data_prep.head()\n"
   ]
  },
  {
   "cell_type": "code",
   "execution_count": null,
   "metadata": {},
   "outputs": [],
   "source": [
    "# Splitten des Datensets in Datasets für die einzelnen Artikel mit einer for-schleife\n",
    "\n",
    "dataframes = [data_prep[data_prep['Artikel'] == i] for i in data_prep['Artikel'].unique()]"
   ]
  },
  {
   "cell_type": "code",
   "execution_count": null,
   "metadata": {},
   "outputs": [],
   "source": [
    "data_prep.reset_index(drop=True, inplace=True)\n",
    "data_prep.info()"
   ]
  },
  {
   "cell_type": "code",
   "execution_count": null,
   "metadata": {},
   "outputs": [],
   "source": [
    "data_prep.head()"
   ]
  },
  {
   "cell_type": "code",
   "execution_count": null,
   "metadata": {},
   "outputs": [],
   "source": [
    "pre_optimized = data_prep.copy()"
   ]
  },
  {
   "attachments": {},
   "cell_type": "markdown",
   "metadata": {},
   "source": [
    "### Optimierung"
   ]
  },
  {
   "cell_type": "code",
   "execution_count": null,
   "metadata": {},
   "outputs": [],
   "source": [
    "# Für Butterzopf_mittel: Berechnung der minimalen und maximalen Menge, sowie der Gesamtsumme der Menge\n",
    "butterzopf_mittel = pre_optimized[data_prep['Artikel'] == 'Butterzopf_mittel']\n",
    "print(butterzopf_mittel['Menge'].describe())\n",
    "print('Summe: ', butterzopf_mittel['Menge'].sum())\n",
    "print('Median: ', butterzopf_mittel['Menge'].median())"
   ]
  },
  {
   "attachments": {},
   "cell_type": "markdown",
   "metadata": {},
   "source": [
    "Beim Butterzopf ist auffällig, dass bei einer relativ geringen Menge (16% von Verkaufsmenge Buttergipfel) eine hohe Variation in den gekauften Mengen besteht. Das erkennt man besonders daran, dass der Durchschnitt bei 31.6 liegt, während der Median nur bei 15 liegt.\n",
    "\n",
    "Um dem entgegenzuwirken entfernen wir Werte größer 20, da wir davon ausgehen, dass solch große Mengen nicht ohne Voranküdigung gekauft werden. Und wenn der Kauf vorbestellt ist, dann ist er auch nicht mehr für unsere Prediciton relevant."
   ]
  },
  {
   "cell_type": "code",
   "execution_count": null,
   "metadata": {},
   "outputs": [],
   "source": [
    "# For schleife, die durch alle Artikel iteriert und die Zeile löscht, wenn der Artikel 'butteropf Mittel' größer als 20 ist\n",
    "#for i in range(len(data_prep)):\n",
    "#    if data_prep['Artikel'][i] == 'Butterzopf_mittel' and data_prep['Menge'][i] > 20:\n",
    "#        data_prep.drop(i, inplace = True)\n",
    "\n",
    "#data_prep.info()"
   ]
  },
  {
   "attachments": {},
   "cell_type": "markdown",
   "metadata": {},
   "source": [
    "## 6.2 Lineare Regression"
   ]
  },
  {
   "cell_type": "code",
   "execution_count": null,
   "metadata": {},
   "outputs": [],
   "source": [
    "from sklearn.metrics import mean_squared_error, mean_absolute_percentage_error\n",
    "from sklearn.model_selection import train_test_split\n",
    "\n",
    "from sklearn.linear_model import LinearRegression"
   ]
  },
  {
   "cell_type": "code",
   "execution_count": null,
   "metadata": {},
   "outputs": [],
   "source": [
    "def LinReg_train_and_evaluate_product_model(data, product_id):\n",
    "    # Filter the data for the specific product\n",
    "    product_data = data[data['Artikel'] == product_id]\n",
    "    \n",
    "    # Split the data into features (X) and target (y)\n",
    "    X = product_data.drop(['Menge', 'Artikel'], axis=1)\n",
    "    y = product_data['Menge']\n",
    "    \n",
    "    # Split the data into training and testing sets\n",
    "    X_train, X_test, y_train, y_test = train_test_split(X, y, test_size=0.2, random_state=42)\n",
    "    \n",
    "    # Define the XGBoost model\n",
    "    model = LinearRegression()\n",
    "    \n",
    "    # Train the model on the training data\n",
    "    model.fit(X_train, y_train)\n",
    "    \n",
    "    # Make predictions on the testing data\n",
    "    y_pred = model.predict(X_test)\n",
    "    \n",
    "    # Calculate the mean squared error of the model\n",
    "    MAPE = mean_absolute_percentage_error(y_test, y_pred)\n",
    "    R2 = model.score(X_test, y_test)\n",
    "    RMSE = np.sqrt(mean_squared_error(y_test, y_pred))\n",
    "    \n",
    "    return MAPE, R2, RMSE\n"
   ]
  },
  {
   "cell_type": "code",
   "execution_count": null,
   "metadata": {},
   "outputs": [],
   "source": [
    "LinReg_train_and_evaluate_product_model(data_prep, 'Buttergipfeli')"
   ]
  },
  {
   "cell_type": "code",
   "execution_count": null,
   "metadata": {},
   "outputs": [],
   "source": [
    "linReg_Artikel = []  # Create an empty list to store the models\n",
    "\n",
    "metric_names = ['MAPE', 'R2', 'RMSE']  # Add more metric names if there are more than 3 returned values\n",
    "\n",
    "for product in data_prep['Artikel'].unique():\n",
    "    model_metrics = LinReg_train_and_evaluate_product_model(data_prep, product)\n",
    "    model_metrics_dict = {'Type': 'LinReg', 'product': product, **dict(zip(metric_names, model_metrics))}\n",
    "    linReg_Artikel.append(model_metrics_dict)\n",
    "\n",
    "# Visualize the results\n",
    "linReg_Artikel = pd.DataFrame(linReg_Artikel)\n",
    "linReg_Artikel"
   ]
  },
  {
   "cell_type": "code",
   "execution_count": null,
   "metadata": {},
   "outputs": [],
   "source": [
    "# Extrahieren von MAPE aus dem Dataframe\n",
    "LinReg_Artikel_MAPE = linReg_Artikel[['product', 'MAPE']]\n",
    "LinReg_Artikel_MAPE"
   ]
  },
  {
   "cell_type": "code",
   "execution_count": null,
   "metadata": {},
   "outputs": [],
   "source": [
    "# Visualisieren der Ergebnisse\n",
    "import matplotlib.pyplot as plt\n",
    "import seaborn as sns\n"
   ]
  },
  {
   "attachments": {},
   "cell_type": "markdown",
   "metadata": {},
   "source": [
    "## 6.3 XGBoost Regressor"
   ]
  },
  {
   "cell_type": "code",
   "execution_count": null,
   "metadata": {},
   "outputs": [],
   "source": [
    "from sklearn.metrics import mean_squared_error, mean_absolute_percentage_error\n",
    "from sklearn.model_selection import train_test_split\n",
    "import xgboost as xgb"
   ]
  },
  {
   "cell_type": "code",
   "execution_count": null,
   "metadata": {},
   "outputs": [],
   "source": [
    "buttergipfel = data_prep[data_prep['Artikel'] == 'Buttergipfeli']\n",
    "buttergipfel.head()\n",
    "\n",
    "# Splitten des Datensets in Trainings- und Testdaten\n",
    "X = buttergipfel.drop(['Menge', 'Artikel'], axis=1)\n",
    "y = buttergipfel['Menge']\n",
    "\n",
    "X_buttergipfel_train, X_buttergipfel_test, y_buttergipfel_train, y_buttergipfel_test = train_test_split(X, y, test_size=0.2, random_state=42)\n",
    "\n",
    "# Erstellen des Modells\n",
    "model_Buttergipfeli_xgb = xgb.XGBRegressor(objective ='reg:squarederror')\n",
    "\n",
    "# Trainieren des Modells\n",
    "model_Buttergipfeli_xgb.fit(X_buttergipfel_train, y_buttergipfel_train)\n",
    "\n",
    "# Vorhersagen mit dem Modell\n",
    "y_buttergipfel_pred = model.predict(X_buttergipfel_test)\n",
    "\n",
    "# Berechnen des MAPE\n",
    "mape = mean_absolute_percentage_error(y_buttergipfel_test, y_buttergipfel_pred)\n",
    "print('MAPE: %.3f' % mape)"
   ]
  },
  {
   "cell_type": "code",
   "execution_count": null,
   "metadata": {},
   "outputs": [],
   "source": [
    "def XGB_train_and_evaluate_product_model(data, product_id):\n",
    "    # Filter the data for the specific product\n",
    "    product_data = data[data['Artikel'] == product_id]\n",
    "    \n",
    "    # Split the data into features (X) and target (y)\n",
    "    X = product_data.drop(['Menge', 'Artikel'], axis=1)\n",
    "    y = product_data['Menge']\n",
    "    \n",
    "    # Split the data into training and testing sets\n",
    "    X_train, X_test, y_train, y_test = train_test_split(X, y, test_size=0.2, random_state=42)\n",
    "    \n",
    "    # Define the XGBoost model\n",
    "    model = xgb.XGBRegressor(objective='reg:squarederror', n_jobs=-1)\n",
    "    \n",
    "    # Train the model on the training data\n",
    "    model.fit(X_train, y_train)\n",
    "    \n",
    "    # Make predictions on the testing data\n",
    "    y_pred = model.predict(X_test)\n",
    "    \n",
    "    # Calculate the mean squared error of the model\n",
    "    MAPE = mean_absolute_percentage_error(y_test, y_pred)\n",
    "    R2 = model.score(X_test, y_test)\n",
    "    RMSE = np.sqrt(mean_squared_error(y_test, y_pred))\n",
    "    \n",
    "    return MAPE, R2, RMSE\n"
   ]
  },
  {
   "cell_type": "code",
   "execution_count": null,
   "metadata": {},
   "outputs": [],
   "source": [
    "xgb_Artikel = []  # Create an empty list to store the models\n",
    "\n",
    "metric_names = ['MAPE', 'R2', 'RMSE']  # Add more metric names if there are more than 3 returned values\n",
    "\n",
    "for product in data_prep['Artikel'].unique():\n",
    "    model_metrics = XGB_train_and_evaluate_product_model(data_prep, product)\n",
    "    model_metrics_dict = {'Type': 'XGBoost', 'product': product, **dict(zip(metric_names, model_metrics))}\n",
    "    xgb_Artikel.append(model_metrics_dict)\n",
    "\n",
    "# Visualize the results\n",
    "xgb_Artikel = pd.DataFrame(xgb_Artikel)\n",
    "xgb_Artikel\n"
   ]
  },
  {
   "cell_type": "code",
   "execution_count": null,
   "metadata": {},
   "outputs": [],
   "source": [
    "# Extrahieren von MAPE aus dem Dataframe\n",
    "xgb_Artikel_MAPE = xgb_Artikel[['product', 'MAPE']]\n",
    "xgb_Artikel_MAPE"
   ]
  },
  {
   "attachments": {},
   "cell_type": "markdown",
   "metadata": {},
   "source": [
    "## 6.5 Vergleich der Modelle"
   ]
  },
  {
   "cell_type": "code",
   "execution_count": null,
   "metadata": {},
   "outputs": [],
   "source": [
    "# Verbinden der beiden Dataframes\n",
    "Artikel_MAPE = pd.merge(LinReg_Artikel_MAPE, xgb_Artikel_MAPE, on='product')\n",
    "\n",
    "# Umbenennen der Spalten\n",
    "Artikel_MAPE.columns = ['Artikel', 'Lineare Regression', 'XGB']\n",
    "Artikel_MAPE"
   ]
  },
  {
   "cell_type": "code",
   "execution_count": null,
   "metadata": {},
   "outputs": [],
   "source": [
    "# Berechnen des MAPE-Differenz\n",
    "Artikel_MAPE['MAPE Diff XGB'] = Artikel_MAPE['XGB'] - Artikel_MAPE['Lineare Regression']\n",
    "Artikel_MAPE.round(4)"
   ]
  },
  {
   "cell_type": "code",
   "execution_count": null,
   "metadata": {},
   "outputs": [],
   "source": [
    "bar_width = 0.35\n",
    "\n",
    "# Positions of the bars on the x-axis\n",
    "ind = np.arange(len(Artikel_MAPE['Artikel']))\n",
    "\n",
    "# Figure size\n",
    "plt.figure(figsize=(14, 6))\n",
    "\n",
    "# Create bars\n",
    "plt.bar(ind, Artikel_MAPE['Lineare Regression'], width=bar_width, label='Lineare Regression')\n",
    "plt.bar(ind + bar_width, Artikel_MAPE['XGB'], width=bar_width, label='XGB')\n",
    "\n",
    "# Set x-axis labels and ticks\n",
    "plt.xticks(ind + bar_width / 2, Artikel_MAPE['Artikel'], rotation=45)\n",
    "\n",
    "# Set y-axis label\n",
    "plt.ylabel('Values')\n",
    "\n",
    "# Set plot title\n",
    "plt.title('Linear Regression vs. XGB Values for Each Artikel')\n",
    "\n",
    "# Add legend\n",
    "plt.legend(loc='best')\n",
    "\n",
    "# Show plot\n",
    "plt.tight_layout()\n",
    "plt.show()"
   ]
  },
  {
   "cell_type": "code",
   "execution_count": null,
   "metadata": {},
   "outputs": [],
   "source": [
    "import matplotlib.pyplot as plt\n",
    "import seaborn as sns\n",
    "\n",
    "def custom_palette(values):\n",
    "    palette = []\n",
    "    for value in values:\n",
    "        if value >= 0:\n",
    "            palette.append('red')\n",
    "        else:\n",
    "            palette.append('green')\n",
    "    return palette\n",
    "\n",
    "plt.figure(figsize=(10, 5))\n",
    "\n",
    "# Extract MAPE Diff XGB values for the custom_palette function\n",
    "mape_diff_values = Artikel_MAPE['MAPE Diff XGB'].values\n",
    "\n",
    "# Use the custom palette with the sns.barplot function\n",
    "sns.barplot(x='Artikel', y='MAPE Diff XGB', data=Artikel_MAPE, palette=custom_palette(mape_diff_values))\n",
    "\n",
    "plt.xticks(rotation=90)\n",
    "plt.show()\n"
   ]
  },
  {
   "cell_type": "code",
   "execution_count": null,
   "metadata": {},
   "outputs": [],
   "source": [
    "def plot_variable_importance(model_Buttergipfeli_xgb, X_buttergipfel_train):\n",
    "    import matplotlib.pyplot as plt\n",
    "    from pandas import DataFrame\n",
    "    imp=DataFrame({\"imp\":model_Buttergipfeli_xgb.feature_importances_, \"names\":X_buttergipfel_train.columns}).sort_values(\"imp\", ascending=True)\n",
    "    fig, ax = plt.subplots(figsize=(imp.shape[0]/6,imp.shape[0]/5), dpi=300) \n",
    "    ax.barh(imp[\"names\"],imp[\"imp\"], color=\"green\") \n",
    "    ax.set_xlabel('\\nVariable Importance')\n",
    "    ax.set_ylabel('Features\\n') \n",
    "    ax.set_title('Variable Importance Plot\\n') \n",
    "    plt.show() \n",
    "plot_variable_importance(model_Buttergipfeli_xgb, X_buttergipfel_train)"
   ]
  },
  {
   "attachments": {},
   "cell_type": "markdown",
   "metadata": {},
   "source": [
    "# Optimierung des Datensatzes"
   ]
  },
  {
   "attachments": {},
   "cell_type": "markdown",
   "metadata": {},
   "source": [
    "## Test-Optimierung des XGBoost Modells mit Cross Validation und Grid Search für Buttergipfeli"
   ]
  },
  {
   "cell_type": "code",
   "execution_count": null,
   "metadata": {},
   "outputs": [],
   "source": [
    "from sklearn.model_selection import GridSearchCV"
   ]
  },
  {
   "cell_type": "code",
   "execution_count": null,
   "metadata": {},
   "outputs": [],
   "source": [
    "import xgboost as xgb\n",
    "from sklearn.model_selection import GridSearchCV\n",
    "from sklearn.metrics import mean_squared_error, mean_absolute_percentage_error\n",
    "\n",
    "# Initialisieren des Modells\n",
    "xgb = xgb.XGBRegressor()\n",
    "\n",
    "param_grid = {\n",
    "    'learning_rate': [0.01, 0.05, 0.1],\n",
    "    'max_depth': [3, 5, 7],\n",
    "    'n_estimators': [100, 300],\n",
    "    'subsample': [0.8, 0.9],\n",
    "    'colsample_bytree': [0.8, 0.9],\n",
    "}\n",
    "\n",
    "# Erschaffen einer GridSearchCV object\n",
    "xgb_CV_Buttergipfel = GridSearchCV(xgb, param_grid, scoring='r2', cv=5, n_jobs=-1, verbose=1)\n",
    "xgb_CV_Buttergipfel.fit(X_buttergipfel_train, y_buttergipfel_train)\n",
    "\n",
    "# Bestes Modell speichern\n",
    "best_xgb = xgb_CV_Buttergipfel.best_estimator_\n",
    "\n",
    "# KPIs berechnen\n",
    "best_model_R2 = best_xgb.score(X_buttergipfel_train, y_buttergipfel_train)\n",
    "y_pred_xgb = best_xgb.predict(X_buttergipfel_test)\n",
    "best_model_RMSE = mean_squared_error(y_buttergipfel_test, y_pred_xgb, squared=False)\n",
    "best_model_MAPE = mean_absolute_percentage_error(y_buttergipfel_test, y_pred_xgb)\n",
    "\n",
    "print(\"Best Model R2:\", best_model_R2)\n",
    "print(\"Best Model RMSE:\", best_model_RMSE)\n",
    "print(\"Best Model MAPE:\", best_model_MAPE)"
   ]
  },
  {
   "cell_type": "code",
   "execution_count": null,
   "metadata": {},
   "outputs": [],
   "source": []
  },
  {
   "cell_type": "code",
   "execution_count": null,
   "metadata": {},
   "outputs": [],
   "source": [
    "param_grid = {\n",
    "    'learning_rate': [0.01, 0.05, 0.1],\n",
    "    'max_depth': [3, 5, 7],\n",
    "    'n_estimators': [100, 300],\n",
    "    'subsample': [0.8, 0.9],\n",
    "    'colsample_bytree': [0.8, 0.9],\n",
    "}\n",
    "\n",
    "# Erstellen des GridSearchCV-Objekts\n",
    "xgb_CV_Buttergipfel = GridSearchCV(xgb, param_grid, scoring = 'mape', cv = 5, n_jobs = -1, verbose = 1)\n",
    "xgb_CV_Buttergipfel.fit(X_buttergipfel_train, y_buttergipfel_train) # fitting des Modells\n",
    "\n",
    "# Ausgabe der besten Parameter\n",
    "best_xgb = xgb_CV_Buttergipfel.best_estimator_\n",
    "\n",
    "# Berechnen der KPI\n",
    "best_model_R2 = best_xgb.score(X_buttergipfel_train, y_buttergipfel_train)\n",
    "y_pred_xgb = best_xgb.predict(X_buttergipfel_test)\n",
    "best_model_RMSE = mean_squared_error(y_buttergipfel_test, y_pred_xgb, squared=False)\n",
    "best_model_MAPE = mean_absolute_percentage_error(y_buttergipfel_test, y_pred_xgb)\n",
    "\n",
    "print(\"Best Model R2:\", best_model_R2)\n",
    "print(\"Best Model RMSE:\", best_model_RMSE)\n",
    "print(\"Best Model MAPE:\", best_model_MAPE)"
   ]
  },
  {
   "attachments": {},
   "cell_type": "markdown",
   "metadata": {},
   "source": [
    "## Test zum Anpassen von Extremwerten in der Menge"
   ]
  },
  {
   "attachments": {},
   "cell_type": "markdown",
   "metadata": {},
   "source": [
    "Vor allem der 'Butterzopf_mittel' sticht in der Analyse heraus. Er hat einen unglaublich hohen MAPE mit 62% Abweichung aber auch ein hohes R2 (0.84). Deshalb nehmen wir diesen Artikel als Startpunkt auf der Suche nach besserem Verständnis unseres Modells und den Eigenheiten des Datensatzes"
   ]
  },
  {
   "cell_type": "code",
   "execution_count": null,
   "metadata": {},
   "outputs": [],
   "source": [
    "# Boxplot aller Artikel\n",
    "plt.figure(figsize=(10, 5))\n",
    "sns.boxplot(x='Artikel', y='Menge', data=data_prep)\n",
    "plt.xticks(rotation=90)\n",
    "plt.show() "
   ]
  },
  {
   "cell_type": "code",
   "execution_count": null,
   "metadata": {},
   "outputs": [],
   "source": [
    "# Für Butterzopf_mittel: Berechnung der minimalen und maximalen Menge, sowie der Gesamtsumme der Menge\n",
    "butterzopf_mittel = pre_optimized[data_prep['Artikel'] == 'Butterzopf_mittel']\n",
    "print(butterzopf_mittel['Menge'].describe())\n",
    "print('Summe: ', butterzopf_mittel['Menge'].sum())\n",
    "print('Median: ', butterzopf_mittel['Menge'].median())\n"
   ]
  },
  {
   "attachments": {},
   "cell_type": "markdown",
   "metadata": {},
   "source": [
    "Beim Butterzopf ist auffällig, dass bei einer relativ geringen Menge (16% von Verkaufsmenge Buttergipfel) eine hohe Variation in den gekauften Mengen besteht. Das erkennt man besonders daran, dass der Durchschnitt bei 31.6 liegt, während der Median nur bei 15 liegt.\n",
    "\n",
    "Um dem entgegenzuwirken entfernen wir Werte größer 20, da wir davon ausgehen, dass solch große Mengen nicht ohne Voranküdigung gekauft werden. Und wenn der Kauf vorbestellt ist, dann ist er auch nicht mehr für unsere Prediciton relevant."
   ]
  },
  {
   "cell_type": "code",
   "execution_count": null,
   "metadata": {},
   "outputs": [],
   "source": [
    "\n",
    "butterzopf_mittel = butterzopf_mittel[butterzopf_mittel['Menge'] < 20]\n",
    "butterzopf_test = XGB_train_and_evaluate_product_model(butterzopf_mittel, 'Butterzopf_mittel')\n",
    "print(butterzopf_test)\n"
   ]
  },
  {
   "attachments": {},
   "cell_type": "markdown",
   "metadata": {},
   "source": [
    "Mit sinkendem Maximalen Wert, ist die der MAPE ebenfalls. Deshalb wenden wir diese Cleaning Maßnahme nun auch im richtigen Modell an"
   ]
  },
  {
   "cell_type": "code",
   "execution_count": null,
   "metadata": {},
   "outputs": [],
   "source": [
    "# Für Schoggibrötli: Berechnung der minimalen und maximalen Menge, sowie der Gesamtsumme der Menge\n",
    "Schoggibrötli = data_prep[data_prep['Artikel'] == 'Schoggibrötli']\n",
    "print(Schoggibrötli['Menge'].describe())\n",
    "print('Summe: ', Schoggibrötli['Menge'].sum())\n",
    "print('Median: ', Schoggibrötli['Menge'].median())"
   ]
  },
  {
   "cell_type": "code",
   "execution_count": null,
   "metadata": {},
   "outputs": [],
   "source": [
    "# Für Butterzopf_mittel: Berechnung der minimalen und maximalen Menge, sowie der Gesamtsumme der Menge\n",
    "buttergipfeli = data_prep[data_prep['Artikel'] == 'Buttergipfeli']\n",
    "print(buttergipfeli['Menge'].describe())\n",
    "print('Summe: ', buttergipfeli['Menge'].sum())\n",
    "print('Median: ', buttergipfeli['Menge'].median())"
   ]
  },
  {
   "attachments": {},
   "cell_type": "markdown",
   "metadata": {},
   "source": [
    "Im Vergleich mit dem Buttergipfel zeigt sich, dass "
   ]
  },
  {
   "attachments": {},
   "cell_type": "markdown",
   "metadata": {},
   "source": [
    "# Ablage"
   ]
  },
  {
   "cell_type": "code",
   "execution_count": null,
   "metadata": {},
   "outputs": [],
   "source": []
  }
 ],
 "metadata": {
  "kernelspec": {
   "display_name": "Python 3",
   "language": "python",
   "name": "python3"
  },
  "language_info": {
   "codemirror_mode": {
    "name": "ipython",
    "version": 3
   },
   "file_extension": ".py",
   "mimetype": "text/x-python",
   "name": "python",
   "nbconvert_exporter": "python",
   "pygments_lexer": "ipython3",
   "version": "3.9.13"
  },
  "orig_nbformat": 4
 },
 "nbformat": 4,
 "nbformat_minor": 2
}
