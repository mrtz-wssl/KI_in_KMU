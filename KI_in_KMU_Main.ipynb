{
 "cells": [
  {
   "attachments": {},
   "cell_type": "markdown",
   "metadata": {},
   "source": [
    "**Künstliche Intelligenz in kleinen und mittleren Betrieben**"
   ]
  },
  {
   "cell_type": "code",
   "execution_count": 247,
   "metadata": {},
   "outputs": [],
   "source": [
    "# Importieren wichtiger Packages\n",
    "import pandas as pd\n",
    "import numpy as np\n",
    "import matplotlib.pyplot as plt\n",
    "import seaborn as sns"
   ]
  },
  {
   "attachments": {},
   "cell_type": "markdown",
   "metadata": {},
   "source": [
    "### 1. Einlesen und der Daten und erstes Understanding ###\n",
    "\n",
    "Zu Beginn importieren wir die Daten und machen uns ein Bild vom Datensatz, seinen Dimensionen und den Wertebereichen.\n"
   ]
  },
  {
   "cell_type": "code",
   "execution_count": 248,
   "metadata": {},
   "outputs": [
    {
     "data": {
      "text/html": [
       "<div>\n",
       "<style scoped>\n",
       "    .dataframe tbody tr th:only-of-type {\n",
       "        vertical-align: middle;\n",
       "    }\n",
       "\n",
       "    .dataframe tbody tr th {\n",
       "        vertical-align: top;\n",
       "    }\n",
       "\n",
       "    .dataframe thead th {\n",
       "        text-align: right;\n",
       "    }\n",
       "</style>\n",
       "<table border=\"1\" class=\"dataframe\">\n",
       "  <thead>\n",
       "    <tr style=\"text-align: right;\">\n",
       "      <th></th>\n",
       "      <th>Zeitstempel</th>\n",
       "      <th>Filiale</th>\n",
       "      <th>Artikel</th>\n",
       "      <th>Menge</th>\n",
       "      <th>Umsatz</th>\n",
       "      <th>Bestellungen</th>\n",
       "      <th>Temperatur</th>\n",
       "      <th>Niederschlag</th>\n",
       "      <th>Globalstrahlung</th>\n",
       "      <th>Temperatur Schnitt Tag</th>\n",
       "      <th>Niederschlag Summe Tag</th>\n",
       "      <th>Globalstrahlung Schnitt Tag</th>\n",
       "    </tr>\n",
       "  </thead>\n",
       "  <tbody>\n",
       "    <tr>\n",
       "      <th>0</th>\n",
       "      <td>2016-01-03 08:01:46</td>\n",
       "      <td>Sulgen Filiale</td>\n",
       "      <td>Butterzopf mittel</td>\n",
       "      <td>1.0</td>\n",
       "      <td>6.0</td>\n",
       "      <td>0.0</td>\n",
       "      <td>NaN</td>\n",
       "      <td>0.0</td>\n",
       "      <td>NaN</td>\n",
       "      <td>NaN</td>\n",
       "      <td>0.0</td>\n",
       "      <td>NaN</td>\n",
       "    </tr>\n",
       "    <tr>\n",
       "      <th>1</th>\n",
       "      <td>2016-01-03 08:04:45</td>\n",
       "      <td>Sulgen Filiale</td>\n",
       "      <td>Buttergipfeli</td>\n",
       "      <td>2.0</td>\n",
       "      <td>2.6</td>\n",
       "      <td>0.0</td>\n",
       "      <td>NaN</td>\n",
       "      <td>0.0</td>\n",
       "      <td>NaN</td>\n",
       "      <td>NaN</td>\n",
       "      <td>0.0</td>\n",
       "      <td>NaN</td>\n",
       "    </tr>\n",
       "    <tr>\n",
       "      <th>2</th>\n",
       "      <td>2016-01-03 08:09:21</td>\n",
       "      <td>Sulgen Filiale</td>\n",
       "      <td>Buttergipfeli</td>\n",
       "      <td>12.0</td>\n",
       "      <td>15.6</td>\n",
       "      <td>0.0</td>\n",
       "      <td>NaN</td>\n",
       "      <td>0.0</td>\n",
       "      <td>NaN</td>\n",
       "      <td>NaN</td>\n",
       "      <td>0.0</td>\n",
       "      <td>NaN</td>\n",
       "    </tr>\n",
       "    <tr>\n",
       "      <th>3</th>\n",
       "      <td>2016-01-03 08:11:19</td>\n",
       "      <td>Sulgen Filiale</td>\n",
       "      <td>Butterzopf mittel</td>\n",
       "      <td>1.0</td>\n",
       "      <td>6.0</td>\n",
       "      <td>0.0</td>\n",
       "      <td>NaN</td>\n",
       "      <td>0.0</td>\n",
       "      <td>NaN</td>\n",
       "      <td>NaN</td>\n",
       "      <td>0.0</td>\n",
       "      <td>NaN</td>\n",
       "    </tr>\n",
       "    <tr>\n",
       "      <th>4</th>\n",
       "      <td>2016-01-03 08:11:19</td>\n",
       "      <td>Sulgen Filiale</td>\n",
       "      <td>Buttergipfeli</td>\n",
       "      <td>4.0</td>\n",
       "      <td>5.2</td>\n",
       "      <td>0.0</td>\n",
       "      <td>NaN</td>\n",
       "      <td>0.0</td>\n",
       "      <td>NaN</td>\n",
       "      <td>NaN</td>\n",
       "      <td>0.0</td>\n",
       "      <td>NaN</td>\n",
       "    </tr>\n",
       "  </tbody>\n",
       "</table>\n",
       "</div>"
      ],
      "text/plain": [
       "           Zeitstempel                         Filiale            Artikel  \\\n",
       "0  2016-01-03 08:01:46  Sulgen Filiale                  Butterzopf mittel   \n",
       "1  2016-01-03 08:04:45  Sulgen Filiale                      Buttergipfeli   \n",
       "2  2016-01-03 08:09:21  Sulgen Filiale                      Buttergipfeli   \n",
       "3  2016-01-03 08:11:19  Sulgen Filiale                  Butterzopf mittel   \n",
       "4  2016-01-03 08:11:19  Sulgen Filiale                      Buttergipfeli   \n",
       "\n",
       "   Menge  Umsatz  Bestellungen  Temperatur  Niederschlag  Globalstrahlung  \\\n",
       "0    1.0     6.0           0.0         NaN           0.0              NaN   \n",
       "1    2.0     2.6           0.0         NaN           0.0              NaN   \n",
       "2   12.0    15.6           0.0         NaN           0.0              NaN   \n",
       "3    1.0     6.0           0.0         NaN           0.0              NaN   \n",
       "4    4.0     5.2           0.0         NaN           0.0              NaN   \n",
       "\n",
       "   Temperatur Schnitt Tag  Niederschlag Summe Tag  Globalstrahlung Schnitt Tag  \n",
       "0                     NaN                     0.0                          NaN  \n",
       "1                     NaN                     0.0                          NaN  \n",
       "2                     NaN                     0.0                          NaN  \n",
       "3                     NaN                     0.0                          NaN  \n",
       "4                     NaN                     0.0                          NaN  "
      ]
     },
     "execution_count": 248,
     "metadata": {},
     "output_type": "execute_result"
    }
   ],
   "source": [
    "data  = pd.read_csv(\"data.csv\")\n",
    "data.head()"
   ]
  },
  {
   "attachments": {},
   "cell_type": "markdown",
   "metadata": {},
   "source": [
    "Jetzt verschaffen wir uns einen Überblick welche Produkte im Datensatz enthalten sind."
   ]
  },
  {
   "cell_type": "code",
   "execution_count": 249,
   "metadata": {},
   "outputs": [
    {
     "name": "stdout",
     "output_type": "stream",
     "text": [
      "Es sind folgende Produkte im Datensatz enthalten: \n",
      "                           Menge     Umsatz\n",
      "Artikel                                    \n",
      "BT Nussgipfel            64025.3  171619.78\n",
      "Buttergipfeli           384812.0  516096.18\n",
      "Butterzopf mittel        62872.0  395181.16\n",
      "Crèmeschnitten           71149.0  241427.88\n",
      "Erdbeertörtli            26901.0  113210.62\n",
      "Hefe-Vanille-Weggli      40206.0  100220.33\n",
      "Il pollo forte gefüllt   42164.0  316108.05\n",
      "Laugenbrötli             95970.0   95867.92\n",
      "Laugengi.mit SoBlu      187591.0  281656.65\n",
      "Maisgipfel              180437.6  270913.79\n",
      "Quarkzöpfli              63098.0  245454.58\n",
      "Schoggibrötli            43954.0  103507.96\n",
      "St. Gallerbürli          79307.0  110888.58\n",
      "Weggli normal            83320.0   91583.08\n"
     ]
    }
   ],
   "source": [
    "n_produkte = data[\"Artikel\"].unique()\n",
    "\n",
    "# Erstellen einer Produktliste mit der verkauften Anzahl\n",
    "produkt_liste = data[[\"Artikel\", \"Menge\", \"Umsatz\"]].groupby(\"Artikel\").sum()\n",
    "produkt_liste[\"Umsatz\"] = produkt_liste[[\"Umsatz\"]].round(2)\n",
    "\n",
    "\n",
    "print(\"Es sind folgende Produkte im Datensatz enthalten: \")\n",
    "print(produkt_liste)"
   ]
  },
  {
   "cell_type": "code",
   "execution_count": 263,
   "metadata": {},
   "outputs": [
    {
     "name": "stdout",
     "output_type": "stream",
     "text": [
      "Der Datensatz geht von 2016-01-03 bis 2022-02-11.\n"
     ]
    }
   ],
   "source": [
    "print(\"Der Datensatz geht von {} bis {}.\".format(data[\"Datum\"].min(), data[\"Datum\"].max()))"
   ]
  },
  {
   "attachments": {},
   "cell_type": "markdown",
   "metadata": {},
   "source": [
    "<font color=red>\n",
    "<b> Offene Fragen: </b>\n",
    "\n",
    "Warum gibt es bei Nussgipfel und Maisgipfel Dezimalstellen?\n",
    "</font>\n"
   ]
  },
  {
   "attachments": {},
   "cell_type": "markdown",
   "metadata": {},
   "source": [
    "### 2. Vorbereitung des Dataframes ###\n",
    "\n",
    "Als nächstes bereiten wir den Datensatz auf. \n",
    "\n",
    "Dafür werden :\n",
    "- Spalten transformiert\n",
    "- Ungenutzte Spalten entfernt\n",
    "- NA Werte gefüllt oder entfernt\n",
    "- Outlier aus dem Datensatz entfernt\n"
   ]
  },
  {
   "attachments": {},
   "cell_type": "markdown",
   "metadata": {},
   "source": [
    "#### 2.1. Transformation ganzer Spalten im Dataframe ####"
   ]
  },
  {
   "cell_type": "code",
   "execution_count": 250,
   "metadata": {},
   "outputs": [
    {
     "data": {
      "text/html": [
       "<div>\n",
       "<style scoped>\n",
       "    .dataframe tbody tr th:only-of-type {\n",
       "        vertical-align: middle;\n",
       "    }\n",
       "\n",
       "    .dataframe tbody tr th {\n",
       "        vertical-align: top;\n",
       "    }\n",
       "\n",
       "    .dataframe thead th {\n",
       "        text-align: right;\n",
       "    }\n",
       "</style>\n",
       "<table border=\"1\" class=\"dataframe\">\n",
       "  <thead>\n",
       "    <tr style=\"text-align: right;\">\n",
       "      <th></th>\n",
       "      <th>Zeitstempel</th>\n",
       "      <th>Filiale</th>\n",
       "      <th>Artikel</th>\n",
       "      <th>Menge</th>\n",
       "      <th>Umsatz</th>\n",
       "      <th>Bestellungen</th>\n",
       "      <th>Temperatur</th>\n",
       "      <th>Niederschlag</th>\n",
       "      <th>Globalstrahlung</th>\n",
       "      <th>Temperatur Schnitt Tag</th>\n",
       "      <th>Niederschlag Summe Tag</th>\n",
       "      <th>Globalstrahlung Schnitt Tag</th>\n",
       "      <th>Uhrzeit</th>\n",
       "      <th>Stunde</th>\n",
       "      <th>Datum</th>\n",
       "      <th>Wochentag</th>\n",
       "    </tr>\n",
       "  </thead>\n",
       "  <tbody>\n",
       "    <tr>\n",
       "      <th>0</th>\n",
       "      <td>2016-01-03 08:01:46</td>\n",
       "      <td>Sulgen Filiale</td>\n",
       "      <td>Butterzopf mittel</td>\n",
       "      <td>1.0</td>\n",
       "      <td>6.0</td>\n",
       "      <td>0.0</td>\n",
       "      <td>NaN</td>\n",
       "      <td>0.0</td>\n",
       "      <td>NaN</td>\n",
       "      <td>NaN</td>\n",
       "      <td>0.0</td>\n",
       "      <td>NaN</td>\n",
       "      <td>08:01:46</td>\n",
       "      <td>8</td>\n",
       "      <td>2016-01-03</td>\n",
       "      <td>Sunday</td>\n",
       "    </tr>\n",
       "    <tr>\n",
       "      <th>1</th>\n",
       "      <td>2016-01-03 08:04:45</td>\n",
       "      <td>Sulgen Filiale</td>\n",
       "      <td>Buttergipfeli</td>\n",
       "      <td>2.0</td>\n",
       "      <td>2.6</td>\n",
       "      <td>0.0</td>\n",
       "      <td>NaN</td>\n",
       "      <td>0.0</td>\n",
       "      <td>NaN</td>\n",
       "      <td>NaN</td>\n",
       "      <td>0.0</td>\n",
       "      <td>NaN</td>\n",
       "      <td>08:04:45</td>\n",
       "      <td>8</td>\n",
       "      <td>2016-01-03</td>\n",
       "      <td>Sunday</td>\n",
       "    </tr>\n",
       "    <tr>\n",
       "      <th>2</th>\n",
       "      <td>2016-01-03 08:09:21</td>\n",
       "      <td>Sulgen Filiale</td>\n",
       "      <td>Buttergipfeli</td>\n",
       "      <td>12.0</td>\n",
       "      <td>15.6</td>\n",
       "      <td>0.0</td>\n",
       "      <td>NaN</td>\n",
       "      <td>0.0</td>\n",
       "      <td>NaN</td>\n",
       "      <td>NaN</td>\n",
       "      <td>0.0</td>\n",
       "      <td>NaN</td>\n",
       "      <td>08:09:21</td>\n",
       "      <td>8</td>\n",
       "      <td>2016-01-03</td>\n",
       "      <td>Sunday</td>\n",
       "    </tr>\n",
       "    <tr>\n",
       "      <th>3</th>\n",
       "      <td>2016-01-03 08:11:19</td>\n",
       "      <td>Sulgen Filiale</td>\n",
       "      <td>Butterzopf mittel</td>\n",
       "      <td>1.0</td>\n",
       "      <td>6.0</td>\n",
       "      <td>0.0</td>\n",
       "      <td>NaN</td>\n",
       "      <td>0.0</td>\n",
       "      <td>NaN</td>\n",
       "      <td>NaN</td>\n",
       "      <td>0.0</td>\n",
       "      <td>NaN</td>\n",
       "      <td>08:11:19</td>\n",
       "      <td>8</td>\n",
       "      <td>2016-01-03</td>\n",
       "      <td>Sunday</td>\n",
       "    </tr>\n",
       "    <tr>\n",
       "      <th>4</th>\n",
       "      <td>2016-01-03 08:11:19</td>\n",
       "      <td>Sulgen Filiale</td>\n",
       "      <td>Buttergipfeli</td>\n",
       "      <td>4.0</td>\n",
       "      <td>5.2</td>\n",
       "      <td>0.0</td>\n",
       "      <td>NaN</td>\n",
       "      <td>0.0</td>\n",
       "      <td>NaN</td>\n",
       "      <td>NaN</td>\n",
       "      <td>0.0</td>\n",
       "      <td>NaN</td>\n",
       "      <td>08:11:19</td>\n",
       "      <td>8</td>\n",
       "      <td>2016-01-03</td>\n",
       "      <td>Sunday</td>\n",
       "    </tr>\n",
       "  </tbody>\n",
       "</table>\n",
       "</div>"
      ],
      "text/plain": [
       "          Zeitstempel                         Filiale            Artikel  \\\n",
       "0 2016-01-03 08:01:46  Sulgen Filiale                  Butterzopf mittel   \n",
       "1 2016-01-03 08:04:45  Sulgen Filiale                      Buttergipfeli   \n",
       "2 2016-01-03 08:09:21  Sulgen Filiale                      Buttergipfeli   \n",
       "3 2016-01-03 08:11:19  Sulgen Filiale                  Butterzopf mittel   \n",
       "4 2016-01-03 08:11:19  Sulgen Filiale                      Buttergipfeli   \n",
       "\n",
       "   Menge  Umsatz  Bestellungen  Temperatur  Niederschlag  Globalstrahlung  \\\n",
       "0    1.0     6.0           0.0         NaN           0.0              NaN   \n",
       "1    2.0     2.6           0.0         NaN           0.0              NaN   \n",
       "2   12.0    15.6           0.0         NaN           0.0              NaN   \n",
       "3    1.0     6.0           0.0         NaN           0.0              NaN   \n",
       "4    4.0     5.2           0.0         NaN           0.0              NaN   \n",
       "\n",
       "   Temperatur Schnitt Tag  Niederschlag Summe Tag  \\\n",
       "0                     NaN                     0.0   \n",
       "1                     NaN                     0.0   \n",
       "2                     NaN                     0.0   \n",
       "3                     NaN                     0.0   \n",
       "4                     NaN                     0.0   \n",
       "\n",
       "   Globalstrahlung Schnitt Tag   Uhrzeit  Stunde       Datum Wochentag  \n",
       "0                          NaN  08:01:46       8  2016-01-03    Sunday  \n",
       "1                          NaN  08:04:45       8  2016-01-03    Sunday  \n",
       "2                          NaN  08:09:21       8  2016-01-03    Sunday  \n",
       "3                          NaN  08:11:19       8  2016-01-03    Sunday  \n",
       "4                          NaN  08:11:19       8  2016-01-03    Sunday  "
      ]
     },
     "execution_count": 250,
     "metadata": {},
     "output_type": "execute_result"
    }
   ],
   "source": [
    "data_backup = data.copy()\n",
    "\n",
    "# Transformation des Datensatzes\n",
    "data[\"Zeitstempel\"] = pd.to_datetime(data[\"Zeitstempel\"])\n",
    "data[\"Uhrzeit\"] = pd.to_datetime(data[\"Zeitstempel\"]).dt.time\n",
    "data[\"Stunde\"] = pd.to_datetime(data[\"Zeitstempel\"]).dt.hour\n",
    "data[\"Datum\"] = pd.to_datetime(data[\"Zeitstempel\"]).dt.date\n",
    "data[\"Wochentag\"] = pd.to_datetime(data[\"Zeitstempel\"]).dt.day_name()\n",
    "\n",
    "data.head()"
   ]
  },
  {
   "cell_type": "code",
   "execution_count": 251,
   "metadata": {},
   "outputs": [
    {
     "name": "stdout",
     "output_type": "stream",
     "text": [
      "<class 'pandas.core.frame.DataFrame'>\n",
      "RangeIndex: 727754 entries, 0 to 727753\n",
      "Data columns (total 16 columns):\n",
      " #   Column                       Non-Null Count   Dtype         \n",
      "---  ------                       --------------   -----         \n",
      " 0   Zeitstempel                  727754 non-null  datetime64[ns]\n",
      " 1   Filiale                      727754 non-null  object        \n",
      " 2   Artikel                      727754 non-null  object        \n",
      " 3   Menge                        727754 non-null  float64       \n",
      " 4   Umsatz                       727754 non-null  float64       \n",
      " 5   Bestellungen                 727754 non-null  float64       \n",
      " 6   Temperatur                   718722 non-null  float64       \n",
      " 7   Niederschlag                 725226 non-null  float64       \n",
      " 8   Globalstrahlung              718722 non-null  float64       \n",
      " 9   Temperatur Schnitt Tag       719687 non-null  float64       \n",
      " 10  Niederschlag Summe Tag       727754 non-null  float64       \n",
      " 11  Globalstrahlung Schnitt Tag  719687 non-null  float64       \n",
      " 12  Uhrzeit                      727754 non-null  object        \n",
      " 13  Stunde                       727754 non-null  int64         \n",
      " 14  Datum                        727754 non-null  object        \n",
      " 15  Wochentag                    727754 non-null  object        \n",
      "dtypes: datetime64[ns](1), float64(9), int64(1), object(5)\n",
      "memory usage: 88.8+ MB\n"
     ]
    }
   ],
   "source": [
    "data.info()"
   ]
  },
  {
   "cell_type": "code",
   "execution_count": 252,
   "metadata": {},
   "outputs": [
    {
     "name": "stdout",
     "output_type": "stream",
     "text": [
      "<class 'pandas.core.frame.DataFrame'>\n",
      "RangeIndex: 727754 entries, 0 to 727753\n",
      "Data columns (total 14 columns):\n",
      " #   Column                       Non-Null Count   Dtype   \n",
      "---  ------                       --------------   -----   \n",
      " 0   Artikel                      727754 non-null  object  \n",
      " 1   Menge                        727754 non-null  float64 \n",
      " 2   Umsatz                       727754 non-null  float64 \n",
      " 3   Bestellungen                 727754 non-null  float64 \n",
      " 4   Temperatur                   718722 non-null  float64 \n",
      " 5   Niederschlag                 725226 non-null  float64 \n",
      " 6   Globalstrahlung              718722 non-null  float64 \n",
      " 7   Temperatur Schnitt Tag       719687 non-null  float64 \n",
      " 8   Niederschlag Summe Tag       727754 non-null  float64 \n",
      " 9   Globalstrahlung Schnitt Tag  719687 non-null  float64 \n",
      " 10  Uhrzeit                      727754 non-null  object  \n",
      " 11  Stunde                       727754 non-null  int64   \n",
      " 12  Datum                        727754 non-null  object  \n",
      " 13  Wochentag                    727754 non-null  category\n",
      "dtypes: category(1), float64(9), int64(1), object(3)\n",
      "memory usage: 72.9+ MB\n"
     ]
    }
   ],
   "source": [
    "# Konvertieren der Spalten in die richtige Datentypen\n",
    "data[\"Datum\"] = pd.to_datetime(data[\"Datum\"]).dt.date\n",
    "wochentag_reihenfolge = [\"Monday\", \"Tuesday\", \"Wednesday\", \"Thursday\", \"Friday\", \"Saturday\", \"Sunday\"]\n",
    "data[\"Wochentag\"] = pd.Categorical(data[\"Wochentag\"], categories = wochentag_reihenfolge, ordered = True)\n",
    "\n",
    "# Entfernen nicht mehr benötigter Spalten\n",
    "data = data.drop(columns = [\"Filiale\", \"Zeitstempel\"], axis = \"columns\")\n",
    "\n",
    "data.info()"
   ]
  },
  {
   "cell_type": "code",
   "execution_count": 253,
   "metadata": {},
   "outputs": [
    {
     "data": {
      "text/html": [
       "<div>\n",
       "<style scoped>\n",
       "    .dataframe tbody tr th:only-of-type {\n",
       "        vertical-align: middle;\n",
       "    }\n",
       "\n",
       "    .dataframe tbody tr th {\n",
       "        vertical-align: top;\n",
       "    }\n",
       "\n",
       "    .dataframe thead th {\n",
       "        text-align: right;\n",
       "    }\n",
       "</style>\n",
       "<table border=\"1\" class=\"dataframe\">\n",
       "  <thead>\n",
       "    <tr style=\"text-align: right;\">\n",
       "      <th></th>\n",
       "      <th>Artikel</th>\n",
       "      <th>Menge</th>\n",
       "      <th>Umsatz</th>\n",
       "      <th>Bestellungen</th>\n",
       "      <th>Temperatur</th>\n",
       "      <th>Niederschlag</th>\n",
       "      <th>Globalstrahlung</th>\n",
       "      <th>Temperatur Schnitt Tag</th>\n",
       "      <th>Niederschlag Summe Tag</th>\n",
       "      <th>Globalstrahlung Schnitt Tag</th>\n",
       "      <th>Uhrzeit</th>\n",
       "      <th>Stunde</th>\n",
       "      <th>Datum</th>\n",
       "      <th>Wochentag</th>\n",
       "    </tr>\n",
       "  </thead>\n",
       "  <tbody>\n",
       "    <tr>\n",
       "      <th>0</th>\n",
       "      <td>Butterzopf mittel</td>\n",
       "      <td>1.0</td>\n",
       "      <td>6.0</td>\n",
       "      <td>0.0</td>\n",
       "      <td>NaN</td>\n",
       "      <td>0.0</td>\n",
       "      <td>NaN</td>\n",
       "      <td>NaN</td>\n",
       "      <td>0.0</td>\n",
       "      <td>NaN</td>\n",
       "      <td>08:01:46</td>\n",
       "      <td>8</td>\n",
       "      <td>2016-01-03</td>\n",
       "      <td>Sunday</td>\n",
       "    </tr>\n",
       "    <tr>\n",
       "      <th>1</th>\n",
       "      <td>Buttergipfeli</td>\n",
       "      <td>2.0</td>\n",
       "      <td>2.6</td>\n",
       "      <td>0.0</td>\n",
       "      <td>NaN</td>\n",
       "      <td>0.0</td>\n",
       "      <td>NaN</td>\n",
       "      <td>NaN</td>\n",
       "      <td>0.0</td>\n",
       "      <td>NaN</td>\n",
       "      <td>08:04:45</td>\n",
       "      <td>8</td>\n",
       "      <td>2016-01-03</td>\n",
       "      <td>Sunday</td>\n",
       "    </tr>\n",
       "    <tr>\n",
       "      <th>2</th>\n",
       "      <td>Buttergipfeli</td>\n",
       "      <td>12.0</td>\n",
       "      <td>15.6</td>\n",
       "      <td>0.0</td>\n",
       "      <td>NaN</td>\n",
       "      <td>0.0</td>\n",
       "      <td>NaN</td>\n",
       "      <td>NaN</td>\n",
       "      <td>0.0</td>\n",
       "      <td>NaN</td>\n",
       "      <td>08:09:21</td>\n",
       "      <td>8</td>\n",
       "      <td>2016-01-03</td>\n",
       "      <td>Sunday</td>\n",
       "    </tr>\n",
       "    <tr>\n",
       "      <th>3</th>\n",
       "      <td>Butterzopf mittel</td>\n",
       "      <td>1.0</td>\n",
       "      <td>6.0</td>\n",
       "      <td>0.0</td>\n",
       "      <td>NaN</td>\n",
       "      <td>0.0</td>\n",
       "      <td>NaN</td>\n",
       "      <td>NaN</td>\n",
       "      <td>0.0</td>\n",
       "      <td>NaN</td>\n",
       "      <td>08:11:19</td>\n",
       "      <td>8</td>\n",
       "      <td>2016-01-03</td>\n",
       "      <td>Sunday</td>\n",
       "    </tr>\n",
       "    <tr>\n",
       "      <th>4</th>\n",
       "      <td>Buttergipfeli</td>\n",
       "      <td>4.0</td>\n",
       "      <td>5.2</td>\n",
       "      <td>0.0</td>\n",
       "      <td>NaN</td>\n",
       "      <td>0.0</td>\n",
       "      <td>NaN</td>\n",
       "      <td>NaN</td>\n",
       "      <td>0.0</td>\n",
       "      <td>NaN</td>\n",
       "      <td>08:11:19</td>\n",
       "      <td>8</td>\n",
       "      <td>2016-01-03</td>\n",
       "      <td>Sunday</td>\n",
       "    </tr>\n",
       "  </tbody>\n",
       "</table>\n",
       "</div>"
      ],
      "text/plain": [
       "             Artikel  Menge  Umsatz  Bestellungen  Temperatur  Niederschlag  \\\n",
       "0  Butterzopf mittel    1.0     6.0           0.0         NaN           0.0   \n",
       "1      Buttergipfeli    2.0     2.6           0.0         NaN           0.0   \n",
       "2      Buttergipfeli   12.0    15.6           0.0         NaN           0.0   \n",
       "3  Butterzopf mittel    1.0     6.0           0.0         NaN           0.0   \n",
       "4      Buttergipfeli    4.0     5.2           0.0         NaN           0.0   \n",
       "\n",
       "   Globalstrahlung  Temperatur Schnitt Tag  Niederschlag Summe Tag  \\\n",
       "0              NaN                     NaN                     0.0   \n",
       "1              NaN                     NaN                     0.0   \n",
       "2              NaN                     NaN                     0.0   \n",
       "3              NaN                     NaN                     0.0   \n",
       "4              NaN                     NaN                     0.0   \n",
       "\n",
       "   Globalstrahlung Schnitt Tag   Uhrzeit  Stunde       Datum Wochentag  \n",
       "0                          NaN  08:01:46       8  2016-01-03    Sunday  \n",
       "1                          NaN  08:04:45       8  2016-01-03    Sunday  \n",
       "2                          NaN  08:09:21       8  2016-01-03    Sunday  \n",
       "3                          NaN  08:11:19       8  2016-01-03    Sunday  \n",
       "4                          NaN  08:11:19       8  2016-01-03    Sunday  "
      ]
     },
     "execution_count": 253,
     "metadata": {},
     "output_type": "execute_result"
    }
   ],
   "source": [
    "data.head()"
   ]
  },
  {
   "attachments": {},
   "cell_type": "markdown",
   "metadata": {},
   "source": [
    "#### 2.2 Trimmen des Datensatzes ####\n",
    "\n",
    "Im nächsten Schritt werden Outlier aus dem Datensatz gelöscht."
   ]
  },
  {
   "cell_type": "code",
   "execution_count": 254,
   "metadata": {},
   "outputs": [],
   "source": [
    "# Im nächsten Schritt prüfen wir Transaktionen außerhalb der Öffnungszeiten. Im Maximum hat die Bäckerrei von 5:30 bis 19:00 geöffnet.\n",
    "# Zu erst werden Transaktionen vor Öffnung geprüft.\n",
    "data_4_uhr = data[data[\"Stunde\"] == 4]\n",
    "data_4_uhr.head()\n",
    "\n",
    "# Da sich in einem Histogramm über den Umsatz pro Uhrzeit pro Tag Ausreißer um 4 Uhr finden, werden alle Einträge vor 5 Uhr entfernt.\n",
    "data = data[data[\"Stunde\"] >= 5]\n",
    "\n"
   ]
  },
  {
   "cell_type": "code",
   "execution_count": 255,
   "metadata": {},
   "outputs": [
    {
     "data": {
      "image/png": "[encoded data removed]",
      "text/plain": [
       "<Figure size 1000x500 with 1 Axes>"
      ]
     },
     "metadata": {},
     "output_type": "display_data"
    }
   ],
   "source": [
    "# Erstellen eines Histogramms für den Umsatz pro Transaktion\n",
    "plt.figure(figsize= (10, 5))\n",
    "plt.hist(data[\"Umsatz\"], bins = 100, range= [10,200])\n",
    "plt.title(\"Histogramm für den Umsatz pro Transaktion\")\n",
    "plt.xlabel(\"Umsatz\")\n",
    "plt.ylabel(\"Anzahl\")\n",
    "plt.show()"
   ]
  },
  {
   "attachments": {},
   "cell_type": "markdown",
   "metadata": {},
   "source": [
    "### 3. Erste Plots ###"
   ]
  },
  {
   "cell_type": "code",
   "execution_count": 256,
   "metadata": {},
   "outputs": [
    {
     "data": {
      "image/png": "[encoded data removed]",
      "text/plain": [
       "<Figure size 2000x500 with 2 Axes>"
      ]
     },
     "metadata": {},
     "output_type": "display_data"
    }
   ],
   "source": [
    "# Erstellen einer Grafik mit Anzahl und Umsatz pro Produkt\n",
    "fig, ax = plt.subplots(figsize=(20, 5)) \n",
    "index = np.arange(len(produkt_liste))\n",
    "bar_width = 0.35\n",
    "opacity = 0.8\n",
    "\n",
    "menge_bar = plt.bar(index, produkt_liste[\"Menge\"], bar_width,\n",
    "    alpha=opacity,\n",
    "    color='purple',\n",
    "    label='Menge')\n",
    "\n",
    "plt.xlabel('Produkt')\n",
    "plt.ylabel('Anzahl')\n",
    "plt.title('Anzahl und Umsatz pro Produkt')\n",
    "plt.xticks(index + bar_width/2, produkt_liste.index), plt.xticks(rotation=90)\n",
    "\n",
    "# Erschaffen einer zweiten Achse für Umsatz\n",
    "ax2 = ax.twinx()\n",
    "ax2.set_ylabel('Umsatz')\n",
    "\n",
    "# \n",
    "umsatz_bar = plt.bar(index + bar_width, produkt_liste[\"Umsatz\"], bar_width,\n",
    "    alpha=opacity,\n",
    "    color='dimgray',\n",
    "    label='Umsatz')\n",
    "\n",
    "# Verbinden beider Legenden\n",
    "ax.legend(loc = \"upper left\")\n",
    "ax2.legend(loc = \"upper right\")\n",
    "\n",
    "plt.show()\n"
   ]
  },
  {
   "cell_type": "code",
   "execution_count": 262,
   "metadata": {},
   "outputs": [
    {
     "data": {
      "image/png": "[encoded data removed]",
      "text/plain": [
       "<Figure size 1500x500 with 1 Axes>"
      ]
     },
     "metadata": {},
     "output_type": "display_data"
    }
   ],
   "source": [
    "# Erstellen eines Plots mit Uhrzeit und Umsatz\n",
    "\n",
    "# Gruppieren der Daten nach Uhrzeit und Wochentag und berechnung des Durchschnittlichen Umsatzes\n",
    "avg_umsatz = data.groupby([\"Stunde\", \"Wochentag\"])[\"Umsatz\"].sum().reset_index()\n",
    "\n",
    "#Erstellen des Plots\n",
    "plt.figure(figsize = (15,5))\n",
    "sns.barplot(data = avg_umsatz, x = \"Stunde\", y = \"Umsatz\", hue = \"Wochentag\")\n",
    "\n",
    "ax.set_xlabel(\"Uhrzeit\")\n",
    "ax.set_ylabel(\"Umsatz\")\n",
    "ax.set_title(\"Umsatz pro Stunde pro Wochentag\")\n",
    "ax.legend(title = \"Wochentag\", loc = \"upper right\")\n",
    "plt.show()\n"
   ]
  },
  {
   "attachments": {},
   "cell_type": "markdown",
   "metadata": {},
   "source": [
    "# † Code Graveyard † #"
   ]
  },
  {
   "cell_type": "code",
   "execution_count": 258,
   "metadata": {},
   "outputs": [
    {
     "name": "stdout",
     "output_type": "stream",
     "text": [
      "Der höchste Umsatz wurde am Sunday um 15:51:41 Uhr erzielt.\n"
     ]
    }
   ],
   "source": [
    "# Tag + Uhrzeit mit maximalem Umsatz\n",
    "max_umsatz = data[data[\"Umsatz\"] == data[\"Umsatz\"].max()]\n",
    "max_umsatz_Tag = max_umsatz[\"Wochentag\"].values[0]\n",
    "max_umsatz_stunde = max_umsatz[\"Uhrzeit\"].values[0]\n",
    "print(\"Der höchste Umsatz wurde am {} um {} Uhr erzielt.\".format(max_umsatz_Tag, max_umsatz_stunde))\n",
    "\n"
   ]
  },
  {
   "cell_type": "markdown",
   "metadata": {},
   "source": []
  }
 ],
 "metadata": {
  "kernelspec": {
   "display_name": "base",
   "language": "python",
   "name": "python3"
  },
  "language_info": {
   "codemirror_mode": {
    "name": "ipython",
    "version": 3
   },
   "file_extension": ".py",
   "mimetype": "text/x-python",
   "name": "python",
   "nbconvert_exporter": "python",
   "pygments_lexer": "ipython3",
   "version": "3.9.13"
  },
  "orig_nbformat": 4
 },
 "nbformat": 4,
 "nbformat_minor": 2
}
